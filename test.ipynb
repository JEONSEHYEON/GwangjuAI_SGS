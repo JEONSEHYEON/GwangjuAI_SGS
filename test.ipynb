{
  "nbformat": 4,
  "nbformat_minor": 5,
  "metadata": {
    "accelerator": "GPU",
    "colab": {
      "name": "safeware.ipynb",
      "provenance": [],
      "collapsed_sections": [],
      "machine_shape": "hm"
    },
    "kernelspec": {
      "display_name": "Python 3",
      "name": "python3"
    },
    "language_info": {
      "name": "python"
    }
  },
  "cells": [
    {
      "cell_type": "code",
      "metadata": {
        "colab": {
          "base_uri": "https://localhost:8080/"
        },
        "id": "7ZFNX2un6c76",
        "outputId": "3494bada-d12c-455f-95e2-a440101d9c4b"
      },
      "source": [
        "from google.colab import drive\n",
        "drive.mount('/content/drive')"
      ],
      "id": "7ZFNX2un6c76",
      "execution_count": 33,
      "outputs": [
        {
          "output_type": "stream",
          "name": "stdout",
          "text": [
            "Drive already mounted at /content/drive; to attempt to forcibly remount, call drive.mount(\"/content/drive\", force_remount=True).\n"
          ]
        }
      ]
    },
    {
      "cell_type": "code",
      "metadata": {
        "id": "940f61df-c803-4d2c-b1c5-021100375a27"
      },
      "source": [
        "import pandas as pd\n",
        "import numpy as np\n",
        "import matplotlib.pyplot as plt\n",
        "import tensorflow as tf\n",
        "import time\n",
        "import os\n",
        "from tqdm.auto import tqdm\n",
        "import warnings\n",
        "warnings.filterwarnings(action='ignore')\n",
        "from scipy.signal import butter, lfilter, freqz\n",
        "import keras\n",
        "from sklearn.model_selection import train_test_split\n",
        "from tensorflow.keras.losses import binary_crossentropy\n",
        "from tensorflow.keras.optimizers import Adam\n",
        "from tensorflow.keras.callbacks import EarlyStopping, ModelCheckpoint\n",
        "from sklearn.metrics import accuracy_score, recall_score, precision_score, f1_score"
      ],
      "id": "940f61df-c803-4d2c-b1c5-021100375a27",
      "execution_count": 34,
      "outputs": []
    },
    {
      "cell_type": "code",
      "metadata": {
        "id": "a60038d9"
      },
      "source": [
        "pd.set_option('display.max_rows',100)"
      ],
      "id": "a60038d9",
      "execution_count": 35,
      "outputs": []
    },
    {
      "cell_type": "code",
      "metadata": {
        "id": "1d7b70f8-37dd-467e-a40f-beedc85dacdf"
      },
      "source": [
        "path = '/content/drive/MyDrive/sisfall_data/'\n",
        "person = ['SA01','SA02','SA03','SA04','SA05','SA06','SA07','SA08','SA09','SA10','SA11','SA12','SA13','SA14','SA15','SA16','SA17','SA18','SA19','SA20','SA21','SA22','SE01','SE02','SE03','SE04','SE05','SE08','SE09']\n",
        "          #  'SA11','SA12','SA13','SA14','SA15','SA16','SA17','SA18','SA19','SA20',   'SE01','SE02','SE03','SE04','SE05','SE06','SE07'\n",
        "\n",
        "person2 = ['SA21','SA22','SA23','SE08','SE09','SE10']"
      ],
      "id": "1d7b70f8-37dd-467e-a40f-beedc85dacdf",
      "execution_count": 36,
      "outputs": []
    },
    {
      "cell_type": "code",
      "metadata": {
        "id": "2f7cddbd-5ee2-4dcf-9ac6-4082a251f274"
      },
      "source": [
        "# dailies = ['D01', 'D02', 'D03', 'D04', 'D05', 'D06', 'D07', 'D08', 'D09', 'D10', 'D11', 'D12', 'D13', 'D14', 'D15',\n",
        "#            'D16', 'D17', 'D18', 'D19']\n",
        "dailies = []\n",
        "#  , 'D05','D07', 'D08', 'D09', 'D10'\n",
        "falls = ['F01', 'F02', 'F03', 'F04']\n",
        "#  ,'F10','F11', 'F12', 'F13', 'F14', 'F15'\n",
        "# falls = ['F01', 'F02', 'F03', 'F04']\n",
        "trials = ['R01','R02','R03','R04','R05']\n",
        "\n",
        "label_sizes = [160]\n",
        "WINDOWSIZEs = [60]\n",
        "min_maxs = [0]\n",
        "## check_list 안에 standard 있어야함\n",
        "\n",
        "check_lists = [['vm2','g_sum','diff_sum']]## check_list 안에 standard 있어야함\n",
        "standard = 'vm2'"
      ],
      "id": "2f7cddbd-5ee2-4dcf-9ac6-4082a251f274",
      "execution_count": 37,
      "outputs": []
    },
    {
      "cell_type": "markdown",
      "metadata": {
        "id": "M5KRTbGjlafM"
      },
      "source": [
        "####특성 : sum vector magnitude, sum gyro magnitude, 9 Standard deviation magnitude\n",
        "|train data|test data|test_acc|\n",
        "|------|---|---|\n",
        "|성인 20명|성인3명, 노인 3명 |acc: 0.89, recall:0.85,prec:0.99, f1:0.92|\n",
        "|성인 15명, 노인 5명|성인 3명, 노인 3명|테스트3|"
      ],
      "id": "M5KRTbGjlafM"
    },
    {
      "cell_type": "code",
      "metadata": {
        "id": "2ddbdaa4-bd99-4a76-83b8-fdcdbe9f1ec5"
      },
      "source": [
        "\n",
        "# Filter requirements.\n",
        "order = 4\n",
        "fs = 200.0  # sample rate, Hz\n",
        "cutoff = 5.0  # desired cutoff frequency of the filter, Hz\n",
        "\n",
        "\n",
        "# From??????\n",
        "def butter_lowpass(cutoff, fs, order=5):\n",
        "    nyq = 0.5 * fs\n",
        "    normal_cutoff = cutoff / nyq\n",
        "    b, a = butter(order, normal_cutoff, btype='low', analog=False)\n",
        "    return b, a\n",
        "\n",
        "\n",
        "def butter_lowpass_filter(data, cutoff, fs, order=5):\n",
        "    b, a = butter_lowpass(cutoff, fs, order=order)\n",
        "    y = lfilter(b, a, data)\n",
        "    return y"
      ],
      "id": "2ddbdaa4-bd99-4a76-83b8-fdcdbe9f1ec5",
      "execution_count": 38,
      "outputs": []
    },
    {
      "cell_type": "code",
      "metadata": {
        "id": "ac6807d9"
      },
      "source": [
        "def printer(df, min_max=True, range=[0,3000], *args):\n",
        "    idx = {}\n",
        "    if min_max:\n",
        "        x = df.drop(['activity','person'],axis=1).astype('float64')\n",
        "        k = (x - x.min()) / (x.max() - x.min())\n",
        "        for w in args:\n",
        "            plt.plot(k[w],label=w)\n",
        "            idx[w] = df[w][df[w] == df[w].max()].index.values\n",
        "        plt.title(f'person:{df.person[0]}  ,  activity:{df.activity[0]}')\n",
        "        plt.xlim(range)\n",
        "        plt.legend()\n",
        "        plt.show()\n",
        "        for w in idx:\n",
        "            print(f'{w} : {idx[w]}')\n",
        "    else:\n",
        "        for w in args:\n",
        "            plt.plot(df[w],label=w)\n",
        "        plt.title(df.activity[0])\n",
        "        plt.xlim(range)\n",
        "        plt.legend()\n",
        "        plt.show()"
      ],
      "id": "ac6807d9",
      "execution_count": 39,
      "outputs": []
    },
    {
      "cell_type": "code",
      "metadata": {
        "id": "9cda3d77"
      },
      "source": [
        "def preprocess(person):\n",
        "    subjectList = []\n",
        "    adl_list = []\n",
        "    fall_list = []\n",
        "    for man in person:\n",
        "        a = pd.read_csv(path + f'{man}.csv')\n",
        "        df = a[['ADXL_x', 'ADXL_y', 'ADXL_z', 'ITG_x', 'ITG_y', 'ITG_z', 'subject', 'activity', 'trial']]\n",
        "        # df['ADXL_x'] *= (32/8192)\n",
        "        # df['ADXL_y'] *= (32/8192)\n",
        "        # df['ADXL_z'] *= (32/8192)\n",
        "        df['ITG_x'] *= (1000/(2**17))\n",
        "        df['ITG_y'] *= (1000/(2**17))\n",
        "        df['ITG_z'] *= (1000/(2**17))\n",
        "        subjectList.append(df)\n",
        "    for s in subjectList:\n",
        "        for d in dailies:\n",
        "            tempdf = s[s['activity'] == d]\n",
        "            adl_list.append(tempdf)\n",
        "\n",
        "        for f in falls:\n",
        "            tempdf = s[s['activity'] == f]\n",
        "            fall_list.append(tempdf)\n",
        "            \n",
        "    return fall_list, adl_list\n",
        "    "
      ],
      "id": "9cda3d77",
      "execution_count": 40,
      "outputs": []
    },
    {
      "cell_type": "code",
      "metadata": {
        "id": "92e2d023"
      },
      "source": [
        "def preprocess2(df , check_list):\n",
        "    df_list = []\n",
        "    rol_val = 200\n",
        "    for my_df in df:\n",
        "        for trial in trials:\n",
        "            trial_df = my_df[my_df['trial'] == trial]\n",
        "            if len(trial_df) == 0:\n",
        "                continue\n",
        "            trial_df.reset_index(inplace=True)\n",
        "            tempdf = pd.DataFrame()\n",
        "            tempdf['ax'], tempdf['ay'], tempdf['az'] = trial_df['ADXL_x'], trial_df['ADXL_y'], trial_df['ADXL_z']\n",
        "            tempdf['fx'] = pd.Series(butter_lowpass_filter(trial_df['ADXL_x'], cutoff, fs, order))\n",
        "            tempdf['fy'] = pd.Series(butter_lowpass_filter(trial_df['ADXL_y'], cutoff, fs, order))\n",
        "            tempdf['fz'] = pd.Series(butter_lowpass_filter(trial_df['ADXL_z'], cutoff, fs, order))\n",
        "            tempdf['vs'] = np.sqrt(tempdf['ax'] ** 2 + tempdf['ay'] ** 2 + tempdf['az'] ** 2)\n",
        "            tempdf['vm2'] =np.sqrt(tempdf['fx'] ** 2 + tempdf['fy'] ** 2 + tempdf['fz'] ** 2)\n",
        "\n",
        "            tempdf['bx'] = tempdf['fx'].diff()\n",
        "            tempdf['by'] = tempdf['fy'].diff()\n",
        "            tempdf['bz'] = tempdf['fz'].diff()\n",
        "            tempdf['diff_sum'] = np.sqrt(tempdf['bx'] ** 2 + tempdf['by'] ** 2 + tempdf['bz'] ** 2)\n",
        "            # tempdf['activity'] = trial_df['activity']\n",
        "            # tempdf['person'] = trial_df['subject']\n",
        "            tempdf['gx'], tempdf['gy'], tempdf['gz'] = trial_df['ITG_x'], trial_df['ITG_y'], trial_df['ITG_z']\n",
        "            tempdf['g_fx'] = pd.Series(butter_lowpass_filter(tempdf['gx'], cutoff, fs, order))\n",
        "            tempdf['g_fy'] = pd.Series(butter_lowpass_filter(tempdf['gy'], cutoff, fs, order))\n",
        "            tempdf['g_fz'] = pd.Series(butter_lowpass_filter(tempdf['gz'], cutoff, fs, order))\n",
        "            tempdf['g_sum'] = np.sqrt(tempdf['g_fx'] ** 2 + tempdf['g_fy'] ** 2 + tempdf['g_fz'] ** 2)\n",
        "            tempdf['g_sum2'] = np.sqrt(tempdf['gx'] ** 2 + tempdf['gy'] ** 2 + tempdf['gz'] ** 2)\n",
        "\n",
        "\n",
        "\n",
        "\n",
        "            #Rolling standard deviations\n",
        "            tempdf['bx_std'] = tempdf['bx'].rolling(rol_val,min_periods = 1).std()\n",
        "            tempdf['by_std'] = tempdf['by'].rolling(rol_val,min_periods = 1).std()\n",
        "            tempdf['bz_std'] = tempdf['bz'].rolling(rol_val,min_periods = 1).std()\n",
        "            tempdf['fx_std'] = tempdf['fx'].rolling(rol_val,min_periods = 1).std()\n",
        "            tempdf['fy_std'] = tempdf['fy'].rolling(rol_val,min_periods = 1).std()\n",
        "            tempdf['fz_std'] = tempdf['fz'].rolling(rol_val,min_periods = 1).std()\n",
        "            tempdf['gx_std'] = tempdf['gx'].rolling(rol_val,min_periods = 1).std()\n",
        "            tempdf['gy_std'] = tempdf['gy'].rolling(rol_val,min_periods = 1).std()\n",
        "            tempdf['gz_std'] = tempdf['gz'].rolling(rol_val,min_periods = 1).std()\n",
        "\n",
        "            # had to make versions of this to put into sliding window, will change once I\n",
        "            # confirm they're the same as the others below\n",
        "            #C8\n",
        "            tempdf['horiz_std_mag9'] = np.sqrt(tempdf['fx_std'] ** 2 + tempdf['fz_std'] ** 2)\n",
        "            #C2\n",
        "            tempdf['horiz_vector_mag9'] = np.sqrt(tempdf['fx'] ** 2 + tempdf['fz'] ** 2)\n",
        "            #c9\n",
        "            tempdf['std_mag9'] = np.sqrt(tempdf['fx_std'] ** 2 + tempdf['fy_std'] ** 2 + tempdf['fz_std'] ** 2)\n",
        "            tempdf['horiz_std_mag2'] = np.sqrt(tempdf['bx_std'] ** 2 + tempdf['bz_std'] ** 2)\n",
        "            tempdf['gyro_horiz_std_mag'] = np.sqrt(tempdf['gx_std'] ** 2 + tempdf['gz_std'] ** 2)\n",
        "            tempdf['gyro_vector_mag'] = np.sqrt(tempdf['gx'] ** 2 + tempdf['gy'] ** 2 + tempdf['gz'] ** 2)\n",
        "            tempdf['gyro_horiz_mag'] = np.sqrt(tempdf['gx'] ** 2 + tempdf['gz'] ** 2)\n",
        "            # C2\n",
        "            tempdf['horiz_mag'] = np.sqrt(tempdf['fx'] ** 2 + tempdf['fz'] ** 2)\n",
        "            tempdf = tempdf[check_list]\n",
        "\n",
        "            df_list.append(tempdf.fillna(0))\n",
        "    return df_list"
      ],
      "id": "92e2d023",
      "execution_count": 41,
      "outputs": []
    },
    {
      "cell_type": "code",
      "metadata": {
        "id": "6b33430f"
      },
      "source": [
        "def labeling(fall_list,adl_list,standard,min_max, check_list, label_size, WINDOWSIZE):\n",
        "    adl_df = []\n",
        "    fall_df = []\n",
        "\n",
        "    for df in fall_list:\n",
        "        df = df.loc[200:,check_list]\n",
        "        if min_max:\n",
        "            df = (df - df.min()) / (df.max() - df.min())\n",
        "        k = df[standard].idxmax()\n",
        "        df['label'] = 0\n",
        "        df['label'].loc[k - label_size: k] = 1\n",
        "        df = df.loc[k - label_size*3: k]\n",
        "        fall_df.append(df)\n",
        "    for df in adl_list:\n",
        "        df = df.loc[200:,check_list]\n",
        "        if min_max:\n",
        "            df = (df - df.min()) / (df.max() - df.min())\n",
        "        df['label'] = 0\n",
        "        adl_df.append(df)\n",
        "\n",
        "    return fall_df, adl_df"
      ],
      "id": "6b33430f",
      "execution_count": 42,
      "outputs": []
    },
    {
      "cell_type": "code",
      "metadata": {
        "id": "73823270"
      },
      "source": [
        "def windowing(fall_df,adl_df , WINDOWSIZE):\n",
        "    x = []\n",
        "    y = []\n",
        "    for df in fall_df:\n",
        "        for i in range(0,len(df) - WINDOWSIZE,1):\n",
        "            df_x = df.drop('label',axis=1).iloc[i : i+ WINDOWSIZE]\n",
        "            df_y = df['label'].iloc[i+ WINDOWSIZE]\n",
        "            x.append(df_x)\n",
        "            y.append(df_y)\n",
        "    for df in adl_df:\n",
        "        for i in range(0,len(df) - WINDOWSIZE, 100):\n",
        "            df_x = df.drop('label',axis=1).iloc[i : i+ WINDOWSIZE]\n",
        "            df_y = df['label'].iloc[i + WINDOWSIZE]\n",
        "            x.append(df_x)\n",
        "            y.append(df_y)\n",
        "    x = np.array(x)\n",
        "    y = np.array(y)\n",
        "    x_train, x_valid, y_train, y_valid = train_test_split(x, y, test_size=0.2, random_state = 0)\n",
        "    return x_train, x_valid, y_train, y_valid"
      ],
      "id": "73823270",
      "execution_count": 43,
      "outputs": []
    },
    {
      "cell_type": "code",
      "metadata": {
        "id": "Mqg3Weh3UQTX"
      },
      "source": [
        "# checkList = checkList = [\n",
        "# 'std_mag9',\n",
        "# 'horiz_std_mag2',\n",
        "# 'gyro_vector_mag',\n",
        "# 'gyro_horiz_mag',\n",
        "# 'vm2'\n",
        "# ]\n",
        "# count = 0\n",
        "# fig, ax = plt.subplots(6,5,figsize=(30,30))\n",
        "# for k in range(0, 0, 10):\n",
        "#     count2 = 0\n",
        "#     df = fall_list[k][checkList]\n",
        "#     df = (df - df.min()) / (df.max() - df.min())\n",
        "#     for i in checkList:\n",
        "#         ax[count,count2].plot(df[i], label=i)\n",
        "#         ax[count,count2].plot(df['vm2'] ,label = 'vm2')\n",
        "#         ax[count,count2].legend()\n",
        "#         count2 += 1\n",
        "#     count += 1\n",
        "\n",
        "# plt.show()"
      ],
      "id": "Mqg3Weh3UQTX",
      "execution_count": 44,
      "outputs": []
    },
    {
      "cell_type": "code",
      "metadata": {
        "id": "a29854d1"
      },
      "source": [
        "# preprocess\n",
        "count = 12\n",
        "scores = []\n",
        "for label_size in label_sizes:\n",
        "    for WINDOWSIZE in WINDOWSIZEs:\n",
        "        for min_max in min_maxs:\n",
        "            for check_list in check_lists:\n",
        "                fall_list, adl_list = preprocess(person)\n",
        "                fall_list = preprocess2(fall_list, check_list)\n",
        "                adl_list = preprocess2(adl_list, check_list)\n",
        "                fall_df, adl_df = labeling(fall_list, adl_list, standard, min_max,  check_list, label_size, WINDOWSIZE)\n",
        "                x_train, x_valid, y_train, y_valid = windowing(fall_df , adl_df, WINDOWSIZE)\n",
        "                model = tf.keras.models.Sequential([\n",
        "                    # LSTM\n",
        "                    # tf.keras.layers.GRU(256,input_shape=[WINDOWSIZE, len(check_list)], activation='tanh', return_sequences=True),\n",
        "                    # tf.keras.layers.GRU(128,  return_sequences=True,dropout=0.2 ),\n",
        "                    # tf.keras.layers.GRU(64,  return_sequences=True,dropout=0.2 ),\n",
        "                    # tf.keras.layers.GRU(32),\n",
        "                    # tf.keras.layers.Dense(16, activation=\"relu\"),\n",
        "                    # tf.keras.layers.Dense(8, activation=\"relu\"),\n",
        "                    # tf.keras.layers.Dense(1, activation=\"sigmoid\"),\n",
        "                    tf.keras.layers.LSTM(256,input_shape=[WINDOWSIZE, len(check_list)], activation='tanh', return_sequences=True),\n",
        "                    tf.keras.layers.LSTM(128,  return_sequences=True,dropout=0.3),\n",
        "                    tf.keras.layers.LSTM(64 , return_sequences=True, dropout=0.3),\n",
        "                    tf.keras.layers.LSTM(32 , return_sequences=True),\n",
        "                    tf.keras.layers.LSTM(16),\n",
        "                    tf.keras.layers.Dense(1, activation=\"sigmoid\"),\n",
        "                ])\n",
        "                model.compile(loss=tf.keras.losses.BinaryCrossentropy(from_logits=True), optimizer='adam', metrics='accuracy')\n",
        "                early_stop = EarlyStopping(monitor='val_loss', patience=100)\n",
        "                filename = os.path.join(path + f'tmp_checkpoint{count}.h5')\n",
        "                checkpoint = ModelCheckpoint(filename, monitor='val_loss', verbose=1, save_best_only=True, mode='auto')\n",
        "                history = model.fit(x_train, y_train, \n",
        "                                    epochs=200, \n",
        "                                    batch_size=32,\n",
        "                                    validation_data=(x_valid, y_valid), \n",
        "                                    callbacks=[early_stop, checkpoint])\n",
        "                score = model.evaluate(x_train,y_train)\n",
        "                fall_list, adl_list = preprocess(person2)\n",
        "                fall_list = preprocess2(fall_list, check_list)\n",
        "                adl_list = preprocess2(adl_list , check_list)\n",
        "                fall_df, adl_df = labeling(fall_list, adl_list, standard, min_max,  check_list, label_size, WINDOWSIZE)\n",
        "                x_train, x_valid, y_train, y_valid = windowing(fall_df , adl_df, WINDOWSIZE)\n",
        "                y_hat = model.predict(x_train).round()\n",
        "                acc = accuracy_score(y_train, y_hat)\n",
        "                recall = recall_score(y_train, y_hat)\n",
        "                pre = precision_score(y_train, y_hat)\n",
        "                f1 = f1_score(y_train, y_hat)\n",
        "                scores.append([score, acc, recall, pre, f1])\n",
        "                count += 1\n",
        "                break\n",
        "print(scores)"
      ],
      "id": "a29854d1",
      "execution_count": null,
      "outputs": []
    },
    {
      "cell_type": "code",
      "metadata": {
        "id": "9Hy3ZiYAIz0U",
        "colab": {
          "base_uri": "https://localhost:8080/"
        },
        "outputId": "1d174a34-29b1-4682-f768-38cdcdc93490"
      },
      "source": [
        "scores"
      ],
      "id": "9Hy3ZiYAIz0U",
      "execution_count": 46,
      "outputs": [
        {
          "output_type": "execute_result",
          "data": {
            "text/plain": [
              "[]"
            ]
          },
          "metadata": {},
          "execution_count": 46
        }
      ]
    },
    {
      "cell_type": "code",
      "metadata": {
        "id": "HXPTp2TNghQY"
      },
      "source": [
        "fall_list, adl_list = preprocess(person2)\n",
        "fall_list = preprocess2(fall_list,check_list)\n",
        "adl_list = preprocess2(adl_list,check_list)\n",
        "# model = keras.models.load_model(path + f'tmp_checkpoint{11}.h5')"
      ],
      "id": "HXPTp2TNghQY",
      "execution_count": 50,
      "outputs": []
    },
    {
      "cell_type": "code",
      "metadata": {
        "id": "BKq3n6LyZVAS",
        "colab": {
          "base_uri": "https://localhost:8080/"
        },
        "outputId": "89ef5b48-2b0f-4a5f-ad4c-bf00db470b9a"
      },
      "source": [
        "df = fall_list[3]\n",
        "df = df.loc[200:,check_list]\n",
        "k = df['vm2'].idxmax()\n",
        "df['label'] = 0\n",
        "df['label'].loc[k - 150 + 60: k] = 1\n",
        "df = df.loc[:k]\n",
        "x = []\n",
        "y = []\n",
        "for i in range(0,len(df) - 60,1):\n",
        "    df_x = df.drop('label',axis=1).iloc[i : i+ 60]\n",
        "    df_y = df['label'].iloc[i+ 60]\n",
        "    x.append(df_x)\n",
        "    y.append(df_y)\n",
        "x = np.array(x)\n",
        "y = np.array(y)\n",
        "scores = []\n",
        "\n",
        "y_hat = model.predict(x).round()\n",
        "acc = accuracy_score(y, y_hat)\n",
        "recall = recall_score(y, y_hat)\n",
        "pre = precision_score(y, y_hat)\n",
        "f1 = f1_score(y, y_hat)\n",
        "scores.append([acc, recall, pre, f1])\n",
        "print(scores)"
      ],
      "id": "BKq3n6LyZVAS",
      "execution_count": 65,
      "outputs": [
        {
          "output_type": "stream",
          "name": "stdout",
          "text": [
            "[[0.9683301343570058, 1.0, 0.7338709677419355, 0.8465116279069768]]\n"
          ]
        }
      ]
    },
    {
      "cell_type": "code",
      "metadata": {
        "id": "f9uVMKOxSX26"
      },
      "source": [
        "zero = np.zeros((260,))"
      ],
      "id": "f9uVMKOxSX26",
      "execution_count": 66,
      "outputs": []
    },
    {
      "cell_type": "code",
      "metadata": {
        "colab": {
          "base_uri": "https://localhost:8080/"
        },
        "id": "xGD2EcH2S83x",
        "outputId": "7176199b-9175-4d61-e173-b167e94c7b0b"
      },
      "source": [
        "y_hat.shape"
      ],
      "id": "xGD2EcH2S83x",
      "execution_count": 67,
      "outputs": [
        {
          "output_type": "execute_result",
          "data": {
            "text/plain": [
              "(1042, 1)"
            ]
          },
          "metadata": {},
          "execution_count": 67
        }
      ]
    },
    {
      "cell_type": "code",
      "metadata": {
        "colab": {
          "base_uri": "https://localhost:8080/",
          "height": 283
        },
        "id": "WOj-zHiQSgCC",
        "outputId": "2e8d2abf-02b7-4f6e-a035-091c7e881454"
      },
      "source": [
        "plt.plot(np.concatenate((zero, y)) * 800)\n",
        "plt.plot(np.concatenate((zero, y_hat.reshape(-1))) * 800)\n",
        "plt.plot(df.vm2)"
      ],
      "id": "WOj-zHiQSgCC",
      "execution_count": 68,
      "outputs": [
        {
          "output_type": "execute_result",
          "data": {
            "text/plain": [
              "[<matplotlib.lines.Line2D at 0x7f4c84df6810>]"
            ]
          },
          "metadata": {},
          "execution_count": 68
        },
        {
          "output_type": "display_data",
          "data": {
            "image/png": "[encoded data removed]",
            "text/plain": [
              "<Figure size 432x288 with 1 Axes>"
            ]
          },
          "metadata": {
            "needs_background": "light"
          }
        }
      ]
    },
    {
      "cell_type": "code",
      "metadata": {
        "colab": {
          "base_uri": "https://localhost:8080/",
          "height": 283
        },
        "id": "sJHCBdKqSQ1C",
        "outputId": "a6467362-b79d-445c-f087-c053afed5bea"
      },
      "source": [
        "plt.plot(y)"
      ],
      "id": "sJHCBdKqSQ1C",
      "execution_count": 53,
      "outputs": [
        {
          "output_type": "execute_result",
          "data": {
            "text/plain": [
              "[<matplotlib.lines.Line2D at 0x7f4d31e9c650>]"
            ]
          },
          "metadata": {},
          "execution_count": 53
        },
        {
          "output_type": "display_data",
          "data": {
            "image/png": "[encoded data removed]",
            "text/plain": [
              "<Figure size 432x288 with 1 Axes>"
            ]
          },
          "metadata": {
            "needs_background": "light"
          }
        }
      ]
    },
    {
      "cell_type": "code",
      "metadata": {
        "id": "Q9w9z0YQjllu"
      },
      "source": [
        "x.shape"
      ],
      "id": "Q9w9z0YQjllu",
      "execution_count": null,
      "outputs": []
    },
    {
      "cell_type": "code",
      "metadata": {
        "id": "EeWrrKBKj94p"
      },
      "source": [
        "print('help me!!')"
      ],
      "id": "EeWrrKBKj94p",
      "execution_count": null,
      "outputs": []
    }
  ]
}