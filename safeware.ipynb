{
  "nbformat": 4,
  "nbformat_minor": 5,
  "metadata": {
    "kernelspec": {
      "name": "python3",
      "display_name": "Python 3"
    },
    "colab": {
      "name": "safeware.ipynb",
      "provenance": [],
      "collapsed_sections": [],
      "machine_shape": "hm"
    },
    "language_info": {
      "name": "python"
    },
    "accelerator": "GPU"
  },
  "cells": [
    {
      "cell_type": "code",
      "metadata": {
        "colab": {
          "base_uri": "https://localhost:8080/"
        },
        "id": "7ZFNX2un6c76",
        "outputId": "3d1a2679-864c-495d-fbac-0cddc631171e"
      },
      "source": [
        "from google.colab import drive\n",
        "drive.mount('/content/drive')"
      ],
      "id": "7ZFNX2un6c76",
      "execution_count": null,
      "outputs": [
        {
          "output_type": "stream",
          "name": "stdout",
          "text": [
            "Drive already mounted at /content/drive; to attempt to forcibly remount, call drive.mount(\"/content/drive\", force_remount=True).\n"
          ]
        }
      ]
    },
    {
      "cell_type": "code",
      "metadata": {
        "id": "940f61df-c803-4d2c-b1c5-021100375a27"
      },
      "source": [
        "import pandas as pd\n",
        "import numpy as np\n",
        "import matplotlib.pyplot as plt\n",
        "import tensorflow as tf\n",
        "import time\n",
        "import os\n",
        "from tqdm.auto import tqdm\n",
        "import warnings\n",
        "warnings.filterwarnings(action='ignore')\n",
        "from scipy.signal import butter, lfilter, freqz\n",
        "# from torch import nn, optim\n",
        "import sqlite3, os\n",
        "import math\n",
        "import random\n",
        "import keras\n",
        "from sklearn.model_selection import train_test_split\n",
        "from tensorflow.keras.models import Sequential\n",
        "from tensorflow.keras.layers import Dense, LSTM, Conv1D, Lambda\n",
        "from tensorflow.keras.losses import Huber, binary_crossentropy\n",
        "from tensorflow.keras.optimizers import Adam\n",
        "from tensorflow.keras.callbacks import EarlyStopping, ModelCheckpoint"
      ],
      "id": "940f61df-c803-4d2c-b1c5-021100375a27",
      "execution_count": null,
      "outputs": []
    },
    {
      "cell_type": "code",
      "metadata": {
        "id": "a60038d9"
      },
      "source": [
        "pd.set_option('display.max_rows',100)"
      ],
      "id": "a60038d9",
      "execution_count": null,
      "outputs": []
    },
    {
      "cell_type": "code",
      "metadata": {
        "id": "1d7b70f8-37dd-467e-a40f-beedc85dacdf"
      },
      "source": [
        "path = 'SisFall_dataset/'\n",
        "person = ['SA01','SA02','SA03','SA04','SA05','SA06','SA07','SA08','SA09','SA10','SA11','SA12','SA13','SA14','SA15','SA16','SA17','SA18','SA19','SA20']\n",
        "\n",
        "person2 = ['SA21','SA22','SA23']\n",
        "# person = ['data1','data3','data5','data7','data9','data11','data13','data15','data17','data19','data21','data23']\n",
        "# person = os.listdir(path)\n",
        "# person.pop(0)"
      ],
      "id": "1d7b70f8-37dd-467e-a40f-beedc85dacdf",
      "execution_count": null,
      "outputs": []
    },
    {
      "cell_type": "code",
      "metadata": {
        "id": "2f7cddbd-5ee2-4dcf-9ac6-4082a251f274"
      },
      "source": [
        "# dailies = ['D01', 'D02', 'D03', 'D04', 'D05', 'D06', 'D07', 'D08', 'D09', 'D10', 'D11', 'D12', 'D13', 'D14', 'D15',\n",
        "#            'D16', 'D17', 'D18', 'D19']\n",
        "dailies = ['D04', 'D06']\n",
        "falls = ['F01', 'F02', 'F03', 'F04', 'F05', 'F06', 'F07', 'F08', 'F09', 'F10', 'F11', 'F12', 'F13', 'F14', 'F15']\n",
        "# falls = ['F01', 'F02', 'F03', 'F04']\n",
        "trials = ['R01', 'R02','R03','R04','R05']\n",
        "\n",
        "path = '/content/drive/MyDrive/sisfall_data/'"
      ],
      "id": "2f7cddbd-5ee2-4dcf-9ac6-4082a251f274",
      "execution_count": null,
      "outputs": []
    },
    {
      "cell_type": "code",
      "metadata": {
        "id": "2ddbdaa4-bd99-4a76-83b8-fdcdbe9f1ec5"
      },
      "source": [
        "\n",
        "# Filter requirements.\n",
        "order = 4\n",
        "fs = 200.0  # sample rate, Hz\n",
        "cutoff = 5.0  # desired cutoff frequency of the filter, Hz\n",
        "\n",
        "\n",
        "# From??????\n",
        "def butter_lowpass(cutoff, fs, order=5):\n",
        "    nyq = 0.5 * fs\n",
        "    normal_cutoff = cutoff / nyq\n",
        "    b, a = butter(order, normal_cutoff, btype='low', analog=False)\n",
        "    return b, a\n",
        "\n",
        "\n",
        "def butter_lowpass_filter(data, cutoff, fs, order=5):\n",
        "    b, a = butter_lowpass(cutoff, fs, order=order)\n",
        "    y = lfilter(b, a, data)\n",
        "    return y"
      ],
      "id": "2ddbdaa4-bd99-4a76-83b8-fdcdbe9f1ec5",
      "execution_count": null,
      "outputs": []
    },
    {
      "cell_type": "code",
      "metadata": {
        "id": "ac6807d9"
      },
      "source": [
        "def printer(df, min_max=True, range=[0,3000], *args):\n",
        "    idx = {}\n",
        "    if min_max:\n",
        "        x = df.drop(['activity','person'],axis=1).astype('float64')\n",
        "        k = (x - x.min()) / (x.max() - x.min())\n",
        "        for w in args:\n",
        "            plt.plot(k[w],label=w)\n",
        "            idx[w] = df[w][df[w] == df[w].max()].index.values\n",
        "        plt.title(f'person:{df.person[0]}  ,  activity:{df.activity[0]}')\n",
        "        plt.xlim(range)\n",
        "        plt.legend()\n",
        "        plt.show()\n",
        "        for w in idx:\n",
        "            print(f'{w} : {idx[w]}')\n",
        "    else:\n",
        "        for w in args:\n",
        "            plt.plot(df[w],label=w)\n",
        "        plt.title(df.activity[0])\n",
        "        plt.xlim(range)\n",
        "        plt.legend()\n",
        "        plt.show()"
      ],
      "id": "ac6807d9",
      "execution_count": null,
      "outputs": []
    },
    {
      "cell_type": "code",
      "metadata": {
        "id": "9cda3d77"
      },
      "source": [
        "def preprocess(person):\n",
        "    subjectList = []\n",
        "    adl_list = []\n",
        "    fall_list = []\n",
        "    for man in person:\n",
        "        a = pd.read_csv(path + f'{man}.csv')\n",
        "        df = a[['ADXL_x', 'ADXL_y', 'ADXL_z', 'ITG_x', 'ITG_y', 'ITG_z', 'subject', 'activity', 'trial']]\n",
        "    #     df['ADXL_x'] *= (32/8192)\n",
        "    #     df['ADXL_y'] *= (32/8192)\n",
        "    #     df['ADXL_z'] *= (32/8192)\n",
        "        subjectList.append(df)\n",
        "    for s in subjectList:\n",
        "        for d in dailies:\n",
        "            tempdf = s[s['activity'] == d]\n",
        "            adl_list.append(tempdf)\n",
        "\n",
        "        for f in falls:\n",
        "            tempdf = s[s['activity'] == f]\n",
        "            fall_list.append(tempdf)\n",
        "            \n",
        "    return fall_list, adl_list\n",
        "    "
      ],
      "id": "9cda3d77",
      "execution_count": null,
      "outputs": []
    },
    {
      "cell_type": "code",
      "metadata": {
        "id": "92e2d023"
      },
      "source": [
        "def preprocess2(df):\n",
        "    df_list = []\n",
        "    rol_val = 50\n",
        "    for my_df in df:\n",
        "        for trial in trials:\n",
        "            trial_df = my_df[my_df['trial'] == trial]\n",
        "            if len(trial_df) == 0:\n",
        "                continue\n",
        "            trial_df.reset_index(inplace=True)\n",
        "            tempdf = pd.DataFrame()\n",
        "            tempdf['ax'], tempdf['ay'], tempdf['az'] = trial_df['ADXL_x'], trial_df['ADXL_y'], trial_df['ADXL_z']\n",
        "            tempdf = tempdf.reset_index(drop=True)\n",
        "            tempdf['fx'] = pd.Series(butter_lowpass_filter(trial_df['ADXL_x'], cutoff, fs, order))\n",
        "            tempdf['fy'] = pd.Series(butter_lowpass_filter(trial_df['ADXL_y'], cutoff, fs, order))\n",
        "            tempdf['fz'] = pd.Series(butter_lowpass_filter(trial_df['ADXL_z'], cutoff, fs, order))\n",
        "            tempdf['vs'] = np.sqrt(tempdf['ax'] ** 2 + tempdf['ay'] ** 2 + tempdf['az'] ** 2)\n",
        "            tempdf['vm2'] =np.sqrt(tempdf['fx'] ** 2 + tempdf['fy'] ** 2 + tempdf['fz'] ** 2)\n",
        "\n",
        "            tempdf['bx'] = tempdf['fx'].diff()\n",
        "            tempdf['by'] = tempdf['fy'].diff()\n",
        "            tempdf['bz'] = tempdf['fz'].diff()\n",
        "            tempdf['diff_sum'] = np.sqrt(tempdf['bx'] ** 2 + tempdf['by'] ** 2 + tempdf['bz'] ** 2)\n",
        "            tempdf['activity'] = trial_df['activity']\n",
        "            tempdf['person'] = trial_df['subject']\n",
        "\n",
        "            tempdf = tempdf.reset_index(drop=True)\n",
        "            trial_df = trial_df.reset_index(drop=True)\n",
        "            tempdf['gx'], tempdf['gy'], tempdf['gz'] = trial_df['ITG_x'], trial_df['ITG_y'], trial_df['ITG_z']\n",
        "            tempdf['g_fx'] = pd.Series(butter_lowpass_filter(tempdf['gx'], cutoff, fs, order))\n",
        "            tempdf['g_fy'] = pd.Series(butter_lowpass_filter(tempdf['gy'], cutoff, fs, order))\n",
        "            tempdf['g_fz'] = pd.Series(butter_lowpass_filter(tempdf['gz'], cutoff, fs, order))\n",
        "            tempdf['g_sum'] = np.sqrt(tempdf['g_fx'] ** 2 + tempdf['g_fy'] ** 2 + tempdf['g_fz'] ** 2)\n",
        "\n",
        "\n",
        "            #Rolling standard deviations\n",
        "            tempdf['bx_std'] = tempdf['bx'].rolling(rol_val,min_periods = 1).std()\n",
        "            tempdf['by_std'] = tempdf['by'].rolling(rol_val,min_periods = 1).std()\n",
        "            tempdf['bz_std'] = tempdf['bz'].rolling(rol_val,min_periods = 1).std()\n",
        "            tempdf['fx_std'] = tempdf['fx'].rolling(rol_val,min_periods = 1).std()\n",
        "            tempdf['fy_std'] = tempdf['fy'].rolling(rol_val,min_periods = 1).std()\n",
        "            tempdf['fz_std'] = tempdf['fz'].rolling(rol_val,min_periods = 1).std()\n",
        "            tempdf['gx_std'] = tempdf['gx'].rolling(rol_val,min_periods = 1).std()\n",
        "            tempdf['gy_std'] = tempdf['gy'].rolling(rol_val,min_periods = 1).std()\n",
        "            tempdf['gz_std'] = tempdf['gz'].rolling(rol_val,min_periods = 1).std()\n",
        "\n",
        "            # had to make versions of this to put into sliding window, will change once I\n",
        "            # confirm they're the same as the others below\n",
        "            #C8\n",
        "            tempdf['horiz_std_mag9'] = np.sqrt(tempdf['fx_std'] ** 2 + tempdf['fz_std'] ** 2)\n",
        "            #C2\n",
        "            tempdf['horiz_vector_mag9'] = np.sqrt(tempdf['fx'] ** 2 + tempdf['fz'] ** 2)\n",
        "            tempdf['std_mag9'] = np.sqrt(tempdf['fx_std'] ** 2 + tempdf['fy_std'] ** 2 + tempdf['fz_std'] ** 2)\n",
        "            #C9\n",
        "            tempdf['horiz_std_mag2'] = np.sqrt(tempdf['bx_std'] ** 2 + tempdf['bz_std'] ** 2)\n",
        "            tempdf['gyro_horiz_std_mag'] = np.sqrt(tempdf['gx_std'] ** 2 + tempdf['gz_std'] ** 2)\n",
        "            tempdf['gyro_vector_mag'] = np.sqrt(tempdf['gx'] ** 2 + tempdf['gy'] ** 2 + tempdf['gz'] ** 2)\n",
        "            tempdf['gyro_horiz_mag'] = np.sqrt(tempdf['gx'] ** 2 + tempdf['gz'] ** 2)\n",
        "            # C2\n",
        "            tempdf['horiz_mag'] = np.sqrt(tempdf['fx'] ** 2 + tempdf['fz'] ** 2)\n",
        "\n",
        "            df_list.append(tempdf.fillna(0))\n",
        "    return df_list"
      ],
      "id": "92e2d023",
      "execution_count": null,
      "outputs": []
    },
    {
      "cell_type": "code",
      "metadata": {
        "id": "6b33430f"
      },
      "source": [
        "def labeling(fall_list,adl_list, standard,min_max, check_list):\n",
        "    adl_df = []\n",
        "    fall_df = []\n",
        "\n",
        "    for df in fall_list:\n",
        "        df = df.loc[:,check_list]\n",
        "        if min_max:\n",
        "            df = (df - df.min()) / (df.max() - df.min())\n",
        "\n",
        "        k = df[standard].idxmax()\n",
        "        fall = df.loc[k - 120 : k]\n",
        "        fall['label'] = 1\n",
        "        fall_df.append(fall)\n",
        "    \n",
        "    for df in adl_list:\n",
        "        df = df.loc[120:,check_list]\n",
        "        if min_max:\n",
        "            df = (df - df.min()) / (df.max() - df.min())\n",
        "        df['label'] = 0\n",
        "        adl_df.append(df)\n",
        "\n",
        "    return fall_df, adl_df"
      ],
      "id": "6b33430f",
      "execution_count": null,
      "outputs": []
    },
    {
      "cell_type": "code",
      "metadata": {
        "id": "73823270"
      },
      "source": [
        "def windowing(fall_df,adl_df , WINDOWSIZE):\n",
        "    x = []\n",
        "    y = []\n",
        "    for df in fall_df:\n",
        "        for i in range(len(df) - WINDOWSIZE):\n",
        "            df_x = df.drop('label',axis=1).iloc[i : i+ WINDOWSIZE]\n",
        "            df_y = df['label'].iloc[1]\n",
        "            x.append(df_x)\n",
        "            y.append(df_y)\n",
        "    for df in adl_df:\n",
        "        count = 0\n",
        "        for i in range(120,len(df) - WINDOWSIZE,20):\n",
        "            count += 1\n",
        "            df_x = df.drop('label',axis=1).iloc[i : i+ WINDOWSIZE]\n",
        "            df_y = df['label'].iloc[1]\n",
        "            x.append(df_x)\n",
        "            y.append(df_y)\n",
        "            if count > 120:\n",
        "                break\n",
        "    x = np.array(x)\n",
        "    y = np.array(y)\n",
        "    x_train, x_valid, y_train, y_valid = train_test_split(x, y, test_size=0.2, random_state = 0)\n",
        "    return x_train, x_valid, y_train, y_valid"
      ],
      "id": "73823270",
      "execution_count": null,
      "outputs": []
    },
    {
      "cell_type": "code",
      "metadata": {
        "id": "72e9a3a8"
      },
      "source": [
        "WINDOWSIZE = 60"
      ],
      "id": "72e9a3a8",
      "execution_count": null,
      "outputs": []
    },
    {
      "cell_type": "code",
      "metadata": {
        "id": "a29854d1"
      },
      "source": [
        "# preprocess\n",
        "fall_list, adl_list = preprocess(person)\n",
        "fall_list = preprocess2(fall_list)\n",
        "adl_list = preprocess2(adl_list)"
      ],
      "id": "a29854d1",
      "execution_count": null,
      "outputs": []
    },
    {
      "cell_type": "code",
      "metadata": {
        "id": "Mqg3Weh3UQTX"
      },
      "source": [
        "checkList = checkList = [\n",
        "'std_mag9',\n",
        "'horiz_std_mag2',\n",
        "'gyro_vector_mag',\n",
        "'gyro_horiz_mag',\n",
        "'vm2'\n",
        "]"
      ],
      "id": "Mqg3Weh3UQTX",
      "execution_count": null,
      "outputs": []
    },
    {
      "cell_type": "code",
      "metadata": {
        "id": "0Q1Zs0b1RdwR"
      },
      "source": [
        "count = 0\n",
        "\n",
        "fig, ax = plt.subplots(6,5,figsize=(30,30))\n",
        "for k in range(0, 60, 10):\n",
        "    count2 = 0\n",
        "    df = fall_list[k][checkList]\n",
        "    df = (df - df.min()) / (df.max() - df.min())\n",
        "    for i in checkList:\n",
        "\n",
        "        ax[count,count2].plot(df[i], label=i)\n",
        "        ax[count,count2].plot(df['vm2'] ,label = 'vm2')\n",
        "        ax[count,count2].legend()\n",
        "        count2 += 1\n",
        "    count += 1\n",
        "\n",
        "plt.show()\n"
      ],
      "id": "0Q1Zs0b1RdwR",
      "execution_count": null,
      "outputs": []
    },
    {
      "cell_type": "code",
      "metadata": {
        "id": "9fdc5bbe"
      },
      "source": [
        "fall_df, adl_df = labeling(fall_list,adl_list,'vm2',1, ['g_sum','diff_sum','vm2'])"
      ],
      "id": "9fdc5bbe",
      "execution_count": null,
      "outputs": []
    },
    {
      "cell_type": "code",
      "metadata": {
        "id": "1775cd40"
      },
      "source": [
        "x_train, x_valid, y_train, y_valid = windowing(fall_df , adl_df, 60)"
      ],
      "id": "1775cd40",
      "execution_count": null,
      "outputs": []
    },
    {
      "cell_type": "code",
      "metadata": {
        "id": "e4342497"
      },
      "source": [
        "# model = tf.keras.models.Sequential([\n",
        "#     # 1차원 feature map 생성\n",
        "# #     tf.keras.layers.Conv1D(filters=32, kernel_size=5,\n",
        "# #            padding=\"causal\",\n",
        "# #            activation=\"relu\",dff\n",
        "# #            input_shape=[WINDOW_SIZE, 4]),\n",
        "#     # LSTM\n",
        "#     tf.keras.layers.LSTM(128,input_shape=[WINDOWSIZE, 3], activation='tanh', return_sequences=True ),\n",
        "#     tf.keras.layers.LSTM(64,  return_sequences=True ),\n",
        "#     tf.keras.layers.LSTM(32),\n",
        "#     tf.keras.layers.Dense(16, activation=\"relu\"),\n",
        "#     tf.keras.layers.Dense(8, activation=\"relu\"),\n",
        "#     tf.keras.layers.Dense(1, activation=\"sigmoid\"),\n",
        "# ])"
      ],
      "id": "e4342497",
      "execution_count": null,
      "outputs": []
    },
    {
      "cell_type": "code",
      "metadata": {
        "id": "c780a542"
      },
      "source": [
        "model = tf.keras.models.Sequential([\n",
        "    # 1차원 feature map 생성\n",
        "#     tf.keras.layers.Conv1D(filters=32, kernel_size=5,\n",
        "#            padding=\"causal\",\n",
        "#            activation=\"relu\",dff\n",
        "#            input_shape=[WINDOW_SIZE, 4]),\n",
        "    # LSTM\n",
        "    tf.keras.layers.LSTM(128,input_shape=[WINDOWSIZE, 3], activation='tanh', return_sequences=True),\n",
        "    tf.keras.layers.LSTM(64,  return_sequences=True,dropout=0.2 ),\n",
        "    tf.keras.layers.LSTM(32),\n",
        "    tf.keras.layers.Dense(16, activation=\"relu\"),\n",
        "    tf.keras.layers.Dense(8, activation=\"relu\"),\n",
        "    tf.keras.layers.Dense(1, activation=\"sigmoid\"),\n",
        "])"
      ],
      "id": "c780a542",
      "execution_count": null,
      "outputs": []
    },
    {
      "cell_type": "code",
      "metadata": {
        "id": "7d899a9d"
      },
      "source": [
        "model.compile(loss=tf.keras.losses.BinaryCrossentropy(from_logits=True), optimizer='adam', metrics='accuracy')\n",
        "early_stop = EarlyStopping(monitor='val_loss', patience=15)\n",
        "filename = os.path.join(path + 'tmp_checkpoint.h5')\n",
        "checkpoint = ModelCheckpoint(filename, monitor='val_loss', verbose=1, save_best_only=True, mode='auto')\n",
        "\n",
        "history = model.fit(x_train, y_train, \n",
        "                    epochs=100, \n",
        "                    batch_size=32,\n",
        "                    validation_data=(x_valid, y_valid), \n",
        "                    callbacks=[early_stop, checkpoint])"
      ],
      "id": "7d899a9d",
      "execution_count": null,
      "outputs": []
    },
    {
      "cell_type": "code",
      "metadata": {
        "id": "eM5sjgpLIlJK"
      },
      "source": [
        "model = keras.models.load_model('/content/tmp_checkpoint.h5')"
      ],
      "id": "eM5sjgpLIlJK",
      "execution_count": null,
      "outputs": []
    },
    {
      "cell_type": "code",
      "metadata": {
        "id": "ed9e4b73"
      },
      "source": [
        "score = model.evaluate(x_train,y_train)\n",
        "print(score[1])\n",
        "print(score[0])\n",
        "# p = pd.DataFrame(pre.round())\n",
        "# p\n",
        "# x = pd.DataFrame(y_train)\n",
        "# t = pd.concat([p,x],axis=1)\n",
        "# (t.iloc[:,1] + t.iloc[:,0]).value_counts()"
      ],
      "id": "ed9e4b73",
      "execution_count": null,
      "outputs": []
    },
    {
      "cell_type": "code",
      "metadata": {
        "id": "6644a2ed"
      },
      "source": [
        "fall_list, adl_list = preprocess(person2)\n",
        "fall_list = preprocess2(fall_list)\n",
        "adl_list = preprocess2(adl_list)"
      ],
      "id": "6644a2ed",
      "execution_count": null,
      "outputs": []
    },
    {
      "cell_type": "code",
      "metadata": {
        "id": "YoFst4GmMp6X"
      },
      "source": [
        "adl_list[10][['vm2','activity','person']]"
      ],
      "id": "YoFst4GmMp6X",
      "execution_count": null,
      "outputs": []
    },
    {
      "cell_type": "code",
      "metadata": {
        "id": "0cf5ec76"
      },
      "source": [
        "##test data\n",
        "fall_df = []\n",
        "adl_df = []\n",
        "for df in fall_list:\n",
        "    df = df[['g_sum','diff_sum','vm2']]\n",
        "    df = (df - df.min()) / (df.max() - df.min())\n",
        "    df['label'] = 0\n",
        "    k = df.g_sum.idxmax()\n",
        "    df['label'].loc[k-60:k] = 1\n",
        "    df = df.loc[k-120:k]\n",
        "    fall_df.append(df)\n",
        "for df in adl_list:\n",
        "    df = df[['g_sum','diff_sum','vm2']]\n",
        "    df = (df - df.min()) / (df.max() - df.min())\n",
        "    df['label'] = 0\n",
        "    df = df.loc[200:400]\n",
        "    adl_df.append(df)\n",
        "\n",
        "test_x = []\n",
        "test_y = []\n",
        "WINDOWSIZE = 60\n",
        "for df in fall_df:\n",
        "    for i in range(len(df) - WINDOWSIZE):\n",
        "        df_x = df.drop('label',axis=1).iloc[i : i+ WINDOWSIZE]\n",
        "        df_y = df['label'].iloc[i+WINDOWSIZE]\n",
        "        test_x.append(df_x)\n",
        "        test_y.append(df_y)\n",
        "\n",
        "for df in adl_df:\n",
        "    for i in range(0, len(df) - WINDOWSIZE):\n",
        "        df_x = df.drop('label',axis=1).iloc[i : i+ WINDOWSIZE]\n",
        "        df_y = df['label'].iloc[i+WINDOWSIZE]\n",
        "        test_x.append(df_x)\n",
        "        test_y.append(df_y)\n",
        "\n",
        "np_x = np.array(test_x)\n",
        "np_y = np.array(test_y)\n",
        "    "
      ],
      "id": "0cf5ec76",
      "execution_count": null,
      "outputs": []
    },
    {
      "cell_type": "code",
      "metadata": {
        "colab": {
          "base_uri": "https://localhost:8080/"
        },
        "id": "8013c62a",
        "outputId": "9373fcf0-d09f-4e70-c811-b1786e41bf3f"
      },
      "source": [
        "score = model.evaluate(np_x,np_y)\n"
      ],
      "id": "8013c62a",
      "execution_count": null,
      "outputs": [
        {
          "output_type": "stream",
          "name": "stdout",
          "text": [
            "509/509 [==============================] - 8s 6ms/step - loss: 0.1982 - accuracy: 0.9437\n"
          ]
        }
      ]
    },
    {
      "cell_type": "code",
      "metadata": {
        "colab": {
          "base_uri": "https://localhost:8080/"
        },
        "id": "dWctHDZw7Ndi",
        "outputId": "43f3d34f-5089-455d-ec2d-adb74e406b7e"
      },
      "source": [
        "score"
      ],
      "id": "dWctHDZw7Ndi",
      "execution_count": null,
      "outputs": [
        {
          "output_type": "execute_result",
          "data": {
            "text/plain": [
              "[0.19824744760990143, 0.9436758160591125]"
            ]
          },
          "metadata": {},
          "execution_count": 21
        }
      ]
    },
    {
      "cell_type": "code",
      "metadata": {
        "id": "vFwxJVrD7OXp"
      },
      "source": [
        ""
      ],
      "id": "vFwxJVrD7OXp",
      "execution_count": null,
      "outputs": []
    }
  ]
}