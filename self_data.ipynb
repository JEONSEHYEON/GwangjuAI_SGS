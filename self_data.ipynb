{
  "nbformat": 4,
  "nbformat_minor": 0,
  "metadata": {
    "colab": {
      "name": "self_data.ipynb",
      "provenance": [],
      "collapsed_sections": [],
      "machine_shape": "hm",
      "authorship_tag": "ABX9TyMuT2fi/5mdxN+bvKqsRRCx"
    },
    "kernelspec": {
      "name": "python3",
      "display_name": "Python 3"
    },
    "language_info": {
      "name": "python"
    },
    "accelerator": "GPU"
  },
  "cells": [
    {
      "cell_type": "code",
      "metadata": {
        "colab": {
          "base_uri": "https://localhost:8080/"
        },
        "id": "yPjLAMz_c7RR",
        "outputId": "fee033d7-b7d2-44d5-de18-951e78e48c22"
      },
      "source": [
        "from google.colab import drive\n",
        "drive.mount('/content/drive')"
      ],
      "execution_count": null,
      "outputs": [
        {
          "output_type": "stream",
          "name": "stdout",
          "text": [
            "Mounted at /content/drive\n"
          ]
        }
      ]
    },
    {
      "cell_type": "code",
      "metadata": {
        "id": "D6vltdTfdEsZ"
      },
      "source": [
        "import pandas as pd\n",
        "import numpy as np\n",
        "import matplotlib.pyplot as plt\n",
        "import tensorflow as tf\n",
        "import time\n",
        "import os\n",
        "from tqdm.auto import tqdm\n",
        "import warnings\n",
        "warnings.filterwarnings(action='ignore')\n",
        "from scipy.signal import butter, lfilter, freqz\n",
        "# from torch import nn, optim\n",
        "import sqlite3, os\n",
        "import math\n",
        "import random\n",
        "import keras\n",
        "from sklearn.model_selection import train_test_split\n",
        "from tensorflow.keras.models import Sequential\n",
        "from tensorflow.keras.layers import Dense, LSTM, Conv1D, Lambda\n",
        "from tensorflow.keras.losses import Huber, binary_crossentropy\n",
        "from tensorflow.keras.optimizers import Adam\n",
        "from tensorflow.keras.callbacks import EarlyStopping, ModelCheckpoint\n",
        "from matplotlib import animation\n",
        "import matplotlib"
      ],
      "execution_count": null,
      "outputs": []
    },
    {
      "cell_type": "code",
      "metadata": {
        "id": "p_wgCQGIdGIn"
      },
      "source": [
        "\n",
        "path = '/content/drive/MyDrive/self_data/'\n",
        "\n",
        "# Filter requirements.\n",
        "order = 4\n",
        "fs = 50.0  # sample rate, Hz\n",
        "cutoff = 5.0  # desired cutoff frequency of the filter, Hz\n",
        "\n",
        "\n",
        "# From??????\n",
        "def butter_lowpass(cutoff, fs, order=5):\n",
        "    nyq = 0.5 * fs\n",
        "    normal_cutoff = cutoff / nyq\n",
        "    b, a = butter(order, normal_cutoff, btype='low', analog=False)\n",
        "    return b, a\n",
        "\n",
        "\n",
        "def butter_lowpass_filter(data, cutoff, fs, order=5):\n",
        "    b, a = butter_lowpass(cutoff, fs, order=order)\n",
        "    y = lfilter(b, a, data)\n",
        "    return y"
      ],
      "execution_count": null,
      "outputs": []
    },
    {
      "cell_type": "code",
      "metadata": {
        "id": "rP7VY5J3dq0X"
      },
      "source": [
        "def printer(df, min_max=True, range=[0,3000], *args):\n",
        "    idx = {}\n",
        "    if min_max:\n",
        "        x = df.drop(['activity','person'],axis=1).astype('float64')\n",
        "        k = (x - x.min()) / (x.max() - x.min())\n",
        "        for w in args:\n",
        "            plt.plot(k[w],label=w)\n",
        "            idx[w] = df[w][df[w] == df[w].max()].index.values\n",
        "        plt.title(f'person:{df.person[0]}  ,  activity:{df.activity[0]}')\n",
        "        plt.xlim(range)\n",
        "        plt.legend()\n",
        "        plt.show()\n",
        "        for w in idx:\n",
        "            print(f'{w} : {idx[w]}')\n",
        "    else:\n",
        "        for w in args:\n",
        "            plt.plot(df[w],label=w)\n",
        "        plt.title(df.activity[0])\n",
        "        plt.xlim(range)\n",
        "        plt.legend()\n",
        "        plt.show()"
      ],
      "execution_count": null,
      "outputs": []
    },
    {
      "cell_type": "code",
      "metadata": {
        "id": "RmM2Ag-8godI"
      },
      "source": [
        "def preprocess2(df, range, check_list):\n",
        "    df_list = []\n",
        "    rol_val = 50\n",
        "    for trial_df in df:\n",
        "        if len(trial_df) == 0:\n",
        "            continue\n",
        "        trial_df.reset_index(inplace=True)\n",
        "        tempdf = pd.DataFrame()\n",
        "        tempdf['ax'], tempdf['ay'], tempdf['az'] = trial_df['ADXL_x'], trial_df['ADXL_y'], trial_df['ADXL_z']\n",
        "        tempdf = tempdf.reset_index(drop=True)\n",
        "        tempdf['fx'] = pd.Series(butter_lowpass_filter(trial_df['ADXL_x'], cutoff, fs, order))\n",
        "        tempdf['fy'] = pd.Series(butter_lowpass_filter(trial_df['ADXL_y'], cutoff, fs, order))\n",
        "        tempdf['fz'] = pd.Series(butter_lowpass_filter(trial_df['ADXL_z'], cutoff, fs, order))\n",
        "        tempdf['vs'] = np.sqrt(tempdf['ax'] ** 2 + tempdf['ay'] ** 2 + tempdf['az'] ** 2)\n",
        "        tempdf['vm2'] =np.sqrt(tempdf['fx'] ** 2 + tempdf['fy'] ** 2 + tempdf['fz'] ** 2)\n",
        "\n",
        "        tempdf['bx'] = tempdf['fx'].diff()\n",
        "        tempdf['by'] = tempdf['fy'].diff()\n",
        "        tempdf['bz'] = tempdf['fz'].diff()\n",
        "        tempdf['diff_sum'] = np.sqrt(tempdf['bx'] ** 2 + tempdf['by'] ** 2 + tempdf['bz'] ** 2)\n",
        "        tempdf['activity'] = trial_df['activity']\n",
        "        tempdf['person'] = trial_df['person']\n",
        "\n",
        "        tempdf = tempdf.reset_index(drop=True)\n",
        "        trial_df = trial_df.reset_index(drop=True)\n",
        "        tempdf['gx'], tempdf['gy'], tempdf['gz'] = trial_df['ITG_x'], trial_df['ITG_y'], trial_df['ITG_z']\n",
        "        tempdf['g_fx'] = pd.Series(butter_lowpass_filter(tempdf['gx'], cutoff, fs, order))\n",
        "        tempdf['g_fy'] = pd.Series(butter_lowpass_filter(tempdf['gy'], cutoff, fs, order))\n",
        "        tempdf['g_fz'] = pd.Series(butter_lowpass_filter(tempdf['gz'], cutoff, fs, order))\n",
        "        tempdf['g_sum'] = np.sqrt(tempdf['g_fx'] ** 2 + tempdf['g_fy'] ** 2 + tempdf['g_fz'] ** 2)\n",
        "\n",
        "\n",
        "        #Rolling standard deviations\n",
        "        tempdf['bx_std'] = tempdf['bx'].rolling(rol_val,min_periods = 1).std()\n",
        "        tempdf['by_std'] = tempdf['by'].rolling(rol_val,min_periods = 1).std()\n",
        "        tempdf['bz_std'] = tempdf['bz'].rolling(rol_val,min_periods = 1).std()\n",
        "        tempdf['fx_std'] = tempdf['fx'].rolling(rol_val,min_periods = 1).std()\n",
        "        tempdf['fy_std'] = tempdf['fy'].rolling(rol_val,min_periods = 1).std()\n",
        "        tempdf['fz_std'] = tempdf['fz'].rolling(rol_val,min_periods = 1).std()\n",
        "        tempdf['gx_std'] = tempdf['gx'].rolling(rol_val,min_periods = 1).std()\n",
        "        tempdf['gy_std'] = tempdf['gy'].rolling(rol_val,min_periods = 1).std()\n",
        "        tempdf['gz_std'] = tempdf['gz'].rolling(rol_val,min_periods = 1).std()\n",
        "\n",
        "        # had to make versions of this to put into sliding window, will change once I\n",
        "        # confirm they're the same as the others below\n",
        "        #C8\n",
        "        tempdf['horiz_std_mag9'] = np.sqrt(tempdf['fx_std'] ** 2 + tempdf['fz_std'] ** 2)\n",
        "        #C2\n",
        "        tempdf['horiz_vector_mag9'] = np.sqrt(tempdf['fx'] ** 2 + tempdf['fz'] ** 2)\n",
        "        tempdf['std_mag9'] = np.sqrt(tempdf['fx_std'] ** 2 + tempdf['fy_std'] ** 2 + tempdf['fz_std'] ** 2)\n",
        "        #C9\n",
        "        tempdf['horiz_std_mag2'] = np.sqrt(tempdf['bx_std'] ** 2 + tempdf['bz_std'] ** 2)\n",
        "        tempdf['gyro_horiz_std_mag'] = np.sqrt(tempdf['gx_std'] ** 2 + tempdf['gz_std'] ** 2)\n",
        "        tempdf['gyro_vector_mag'] = np.sqrt(tempdf['gx'] ** 2 + tempdf['gy'] ** 2 + tempdf['gz'] ** 2)\n",
        "        tempdf['gyro_horiz_mag'] = np.sqrt(tempdf['gx'] ** 2 + tempdf['gz'] ** 2)\n",
        "        # C2\n",
        "        tempdf['horiz_mag'] = np.sqrt(tempdf['fx'] ** 2 + tempdf['fz'] ** 2)\n",
        "\n",
        "        tempdf = tempdf.loc[:,check_list]\n",
        "        tempdf = (tempdf - tempdf.min()) / (tempdf.max() - tempdf.min())\n",
        "        k = tempdf['vm2'].idxmax()\n",
        "        tempdf['label'] = 0\n",
        "        tempdf['label'].loc[k - range : k] = 1\n",
        "        tempdf = tempdf.loc[:k]\n",
        "        df_list.append(tempdf.fillna(0))\n",
        "    return df_list"
      ],
      "execution_count": null,
      "outputs": []
    },
    {
      "cell_type": "code",
      "metadata": {
        "id": "0J4CrFiId2O6"
      },
      "source": [
        "person = ['data1','data3','data5','data7','data9','data11','data13','data15','data17','data19','data21','data23']\n",
        "subjectList = []\n",
        "count = 0\n",
        "count2 = 0\n",
        "for t in range(1,25):\n",
        "    a = pd.read_csv(path + f'data{t}.csv',names=['ADXL_x', 'ADXL_y', 'ADXL_z', 'ITG_x', 'ITG_y','ITG_z','seq'])\n",
        "    if count == 6:\n",
        "        count = 0\n",
        "    if count < 2:\n",
        "        a['person'] = 'SA01'\n",
        "    elif count < 4:\n",
        "        a['person'] = 'SA02'\n",
        "    elif count < 6:\n",
        "        a['person'] = 'SA03'\n",
        "    count += 1\n",
        "    a['activity'] = str(count2 // 6 + 1)\n",
        "    count2 += 1\n",
        "    df = a[['ADXL_x', 'ADXL_y', 'ADXL_z', 'ITG_x', 'ITG_y', 'ITG_z','person','activity']]\n",
        "    df.reset_index(inplace=True)\n",
        "    df = df.drop(['level_0','level_1'],axis=1)\n",
        "#     df['ADXL_x'] *= (32/8192)\n",
        "#     df['ADXL_y'] *= (32/8192)\n",
        "#     df['ADXL_z'] *= (32/8192)\n",
        "    subjectList.append(df)"
      ],
      "execution_count": null,
      "outputs": []
    },
    {
      "cell_type": "code",
      "metadata": {
        "id": "YE2D20qfj9a9"
      },
      "source": [
        "df_list = preprocess2(subjectList, 50, ['g_sum','diff_sum','vm2'])"
      ],
      "execution_count": null,
      "outputs": []
    },
    {
      "cell_type": "code",
      "metadata": {
        "id": "Z3E7ZSZA5J8z"
      },
      "source": [
        "x = []\n",
        "y = []\n",
        "windowsize = 20\n",
        "for df in df_list:\n",
        "    for i in range(len(df) - windowsize):\n",
        "        df_x = df.drop('label',axis=1).iloc[i : i+ windowsize]\n",
        "        df_y = df['label'].iloc[i+windowsize]\n",
        "        x.append(df_x)\n",
        "        y.append(df_y)\n",
        "x = np.array(x)\n",
        "y = np.array(y)\n",
        "x_train, x_valid, y_train, y_valid = train_test_split(x, y, test_size=0.2, random_state = 0)"
      ],
      "execution_count": null,
      "outputs": []
    },
    {
      "cell_type": "code",
      "metadata": {
        "id": "LHmQLPUtm5KV"
      },
      "source": [
        "model = tf.keras.models.Sequential([\n",
        "    # 1차원 feature map 생성\n",
        "#     tf.keras.layers.Conv1D(filters=32, kernel_size=5,\n",
        "#            padding=\"causal\",\n",
        "#            activation=\"relu\",dff\n",
        "#            input_shape=[WINDOW_SIZE, 4]),\n",
        "    # LSTM\n",
        "    tf.keras.layers.LSTM(128,input_shape=[windowsize, 3], activation='tanh', return_sequences=True),\n",
        "    tf.keras.layers.LSTM(64,  return_sequences=True,dropout=0.2 ),\n",
        "    tf.keras.layers.LSTM(32),\n",
        "    tf.keras.layers.Dense(16, activation=\"relu\"),\n",
        "    tf.keras.layers.Dense(8, activation=\"relu\"),\n",
        "    tf.keras.layers.Dense(1, activation=\"sigmoid\"),\n",
        "])"
      ],
      "execution_count": null,
      "outputs": []
    },
    {
      "cell_type": "code",
      "metadata": {
        "id": "EchHTONXnAf-",
        "colab": {
          "base_uri": "https://localhost:8080/"
        },
        "outputId": "c48ca4e9-4356-4b7b-d3c3-fcc91b40afb2"
      },
      "source": [
        "model.compile(loss=tf.keras.losses.BinaryCrossentropy(from_logits=True), optimizer='adam', metrics='accuracy')\n",
        "early_stop = EarlyStopping(monitor='val_loss', patience=15)\n",
        "filename = os.path.join(path + 'tmp_checkpoint.h5')\n",
        "checkpoint = ModelCheckpoint(filename, monitor='val_loss', verbose=1, save_best_only=True, mode='auto')\n",
        "\n",
        "history = model.fit(x_train, y_train, \n",
        "                    epochs=100, \n",
        "                    batch_size=32,\n",
        "                    validation_data=(x_valid, y_valid), \n",
        "                    callbacks=[early_stop, checkpoint])"
      ],
      "execution_count": null,
      "outputs": [
        {
          "output_type": "stream",
          "name": "stdout",
          "text": [
            "Epoch 1/100\n",
            "114/117 [============================>.] - ETA: 0s - loss: 0.4084 - accuracy: 0.8561\n",
            "Epoch 00001: val_loss improved from inf to 0.33663, saving model to /content/drive/MyDrive/self_data/tmp_checkpoint.h5\n",
            "117/117 [==============================] - 9s 22ms/step - loss: 0.4038 - accuracy: 0.8581 - val_loss: 0.3366 - val_accuracy: 0.8853\n",
            "Epoch 2/100\n",
            "116/117 [============================>.] - ETA: 0s - loss: 0.2940 - accuracy: 0.8960\n",
            "Epoch 00002: val_loss improved from 0.33663 to 0.24276, saving model to /content/drive/MyDrive/self_data/tmp_checkpoint.h5\n",
            "117/117 [==============================] - 1s 8ms/step - loss: 0.2940 - accuracy: 0.8962 - val_loss: 0.2428 - val_accuracy: 0.9175\n",
            "Epoch 3/100\n",
            "109/117 [==========================>...] - ETA: 0s - loss: 0.2640 - accuracy: 0.9057\n",
            "Epoch 00003: val_loss improved from 0.24276 to 0.22447, saving model to /content/drive/MyDrive/self_data/tmp_checkpoint.h5\n",
            "117/117 [==============================] - 1s 8ms/step - loss: 0.2635 - accuracy: 0.9061 - val_loss: 0.2245 - val_accuracy: 0.9185\n",
            "Epoch 4/100\n",
            "112/117 [===========================>..] - ETA: 0s - loss: 0.2485 - accuracy: 0.9113\n",
            "Epoch 00004: val_loss improved from 0.22447 to 0.21364, saving model to /content/drive/MyDrive/self_data/tmp_checkpoint.h5\n",
            "117/117 [==============================] - 1s 8ms/step - loss: 0.2464 - accuracy: 0.9126 - val_loss: 0.2136 - val_accuracy: 0.9218\n",
            "Epoch 5/100\n",
            "116/117 [============================>.] - ETA: 0s - loss: 0.2358 - accuracy: 0.9186\n",
            "Epoch 00005: val_loss improved from 0.21364 to 0.19964, saving model to /content/drive/MyDrive/self_data/tmp_checkpoint.h5\n",
            "117/117 [==============================] - 1s 8ms/step - loss: 0.2351 - accuracy: 0.9190 - val_loss: 0.1996 - val_accuracy: 0.9260\n",
            "Epoch 6/100\n",
            "113/117 [===========================>..] - ETA: 0s - loss: 0.2236 - accuracy: 0.9256\n",
            "Epoch 00006: val_loss improved from 0.19964 to 0.19308, saving model to /content/drive/MyDrive/self_data/tmp_checkpoint.h5\n",
            "117/117 [==============================] - 1s 8ms/step - loss: 0.2233 - accuracy: 0.9254 - val_loss: 0.1931 - val_accuracy: 0.9314\n",
            "Epoch 7/100\n",
            "110/117 [===========================>..] - ETA: 0s - loss: 0.2135 - accuracy: 0.9244\n",
            "Epoch 00007: val_loss did not improve from 0.19308\n",
            "117/117 [==============================] - 1s 7ms/step - loss: 0.2139 - accuracy: 0.9246 - val_loss: 0.1991 - val_accuracy: 0.9207\n",
            "Epoch 8/100\n",
            "115/117 [============================>.] - ETA: 0s - loss: 0.2183 - accuracy: 0.9250\n",
            "Epoch 00008: val_loss improved from 0.19308 to 0.18503, saving model to /content/drive/MyDrive/self_data/tmp_checkpoint.h5\n",
            "117/117 [==============================] - 1s 8ms/step - loss: 0.2173 - accuracy: 0.9254 - val_loss: 0.1850 - val_accuracy: 0.9325\n",
            "Epoch 9/100\n",
            "112/117 [===========================>..] - ETA: 0s - loss: 0.2129 - accuracy: 0.9258\n",
            "Epoch 00009: val_loss did not improve from 0.18503\n",
            "117/117 [==============================] - 1s 7ms/step - loss: 0.2151 - accuracy: 0.9244 - val_loss: 0.2079 - val_accuracy: 0.9282\n",
            "Epoch 10/100\n",
            "114/117 [============================>.] - ETA: 0s - loss: 0.2036 - accuracy: 0.9304\n",
            "Epoch 00010: val_loss improved from 0.18503 to 0.17012, saving model to /content/drive/MyDrive/self_data/tmp_checkpoint.h5\n",
            "117/117 [==============================] - 1s 8ms/step - loss: 0.2014 - accuracy: 0.9313 - val_loss: 0.1701 - val_accuracy: 0.9378\n",
            "Epoch 11/100\n",
            "113/117 [===========================>..] - ETA: 0s - loss: 0.1979 - accuracy: 0.9259\n",
            "Epoch 00011: val_loss did not improve from 0.17012\n",
            "117/117 [==============================] - 1s 7ms/step - loss: 0.1967 - accuracy: 0.9265 - val_loss: 0.1747 - val_accuracy: 0.9357\n",
            "Epoch 12/100\n",
            "111/117 [===========================>..] - ETA: 0s - loss: 0.2016 - accuracy: 0.9344\n",
            "Epoch 00012: val_loss did not improve from 0.17012\n",
            "117/117 [==============================] - 1s 7ms/step - loss: 0.2004 - accuracy: 0.9354 - val_loss: 0.1758 - val_accuracy: 0.9335\n",
            "Epoch 13/100\n",
            "114/117 [============================>.] - ETA: 0s - loss: 0.1955 - accuracy: 0.9331\n",
            "Epoch 00013: val_loss did not improve from 0.17012\n",
            "117/117 [==============================] - 1s 7ms/step - loss: 0.1960 - accuracy: 0.9329 - val_loss: 0.1765 - val_accuracy: 0.9314\n",
            "Epoch 14/100\n",
            "112/117 [===========================>..] - ETA: 0s - loss: 0.1865 - accuracy: 0.9342\n",
            "Epoch 00014: val_loss did not improve from 0.17012\n",
            "117/117 [==============================] - 1s 7ms/step - loss: 0.1848 - accuracy: 0.9348 - val_loss: 0.1731 - val_accuracy: 0.9346\n",
            "Epoch 15/100\n",
            "110/117 [===========================>..] - ETA: 0s - loss: 0.1934 - accuracy: 0.9270\n",
            "Epoch 00015: val_loss did not improve from 0.17012\n",
            "117/117 [==============================] - 1s 7ms/step - loss: 0.1911 - accuracy: 0.9286 - val_loss: 0.1739 - val_accuracy: 0.9378\n",
            "Epoch 16/100\n",
            "110/117 [===========================>..] - ETA: 0s - loss: 0.1774 - accuracy: 0.9330\n",
            "Epoch 00016: val_loss did not improve from 0.17012\n",
            "117/117 [==============================] - 1s 7ms/step - loss: 0.1805 - accuracy: 0.9321 - val_loss: 0.1703 - val_accuracy: 0.9357\n",
            "Epoch 17/100\n",
            "112/117 [===========================>..] - ETA: 0s - loss: 0.1689 - accuracy: 0.9389\n",
            "Epoch 00017: val_loss improved from 0.17012 to 0.16283, saving model to /content/drive/MyDrive/self_data/tmp_checkpoint.h5\n",
            "117/117 [==============================] - 1s 8ms/step - loss: 0.1690 - accuracy: 0.9383 - val_loss: 0.1628 - val_accuracy: 0.9335\n",
            "Epoch 18/100\n",
            "116/117 [============================>.] - ETA: 0s - loss: 0.1701 - accuracy: 0.9351\n",
            "Epoch 00018: val_loss did not improve from 0.16283\n",
            "117/117 [==============================] - 1s 8ms/step - loss: 0.1714 - accuracy: 0.9348 - val_loss: 0.1635 - val_accuracy: 0.9389\n",
            "Epoch 19/100\n",
            "116/117 [============================>.] - ETA: 0s - loss: 0.1700 - accuracy: 0.9364\n",
            "Epoch 00019: val_loss improved from 0.16283 to 0.15786, saving model to /content/drive/MyDrive/self_data/tmp_checkpoint.h5\n",
            "117/117 [==============================] - 1s 8ms/step - loss: 0.1702 - accuracy: 0.9362 - val_loss: 0.1579 - val_accuracy: 0.9432\n",
            "Epoch 20/100\n",
            "110/117 [===========================>..] - ETA: 0s - loss: 0.1655 - accuracy: 0.9366\n",
            "Epoch 00020: val_loss did not improve from 0.15786\n",
            "117/117 [==============================] - 1s 7ms/step - loss: 0.1644 - accuracy: 0.9370 - val_loss: 0.1696 - val_accuracy: 0.9357\n",
            "Epoch 21/100\n",
            "110/117 [===========================>..] - ETA: 0s - loss: 0.1539 - accuracy: 0.9409\n",
            "Epoch 00021: val_loss did not improve from 0.15786\n",
            "117/117 [==============================] - 1s 7ms/step - loss: 0.1569 - accuracy: 0.9402 - val_loss: 0.1739 - val_accuracy: 0.9368\n",
            "Epoch 22/100\n",
            "113/117 [===========================>..] - ETA: 0s - loss: 0.1669 - accuracy: 0.9375\n",
            "Epoch 00022: val_loss improved from 0.15786 to 0.15696, saving model to /content/drive/MyDrive/self_data/tmp_checkpoint.h5\n",
            "117/117 [==============================] - 1s 8ms/step - loss: 0.1654 - accuracy: 0.9383 - val_loss: 0.1570 - val_accuracy: 0.9378\n",
            "Epoch 23/100\n",
            "115/117 [============================>.] - ETA: 0s - loss: 0.1562 - accuracy: 0.9440\n",
            "Epoch 00023: val_loss did not improve from 0.15696\n",
            "117/117 [==============================] - 1s 7ms/step - loss: 0.1568 - accuracy: 0.9431 - val_loss: 0.1597 - val_accuracy: 0.9389\n",
            "Epoch 24/100\n",
            "109/117 [==========================>...] - ETA: 0s - loss: 0.1574 - accuracy: 0.9435\n",
            "Epoch 00024: val_loss improved from 0.15696 to 0.14198, saving model to /content/drive/MyDrive/self_data/tmp_checkpoint.h5\n",
            "117/117 [==============================] - 1s 8ms/step - loss: 0.1543 - accuracy: 0.9450 - val_loss: 0.1420 - val_accuracy: 0.9432\n",
            "Epoch 25/100\n",
            "116/117 [============================>.] - ETA: 0s - loss: 0.1492 - accuracy: 0.9437\n",
            "Epoch 00025: val_loss did not improve from 0.14198\n",
            "117/117 [==============================] - 1s 7ms/step - loss: 0.1511 - accuracy: 0.9431 - val_loss: 0.1467 - val_accuracy: 0.9421\n",
            "Epoch 26/100\n",
            "113/117 [===========================>..] - ETA: 0s - loss: 0.1470 - accuracy: 0.9439\n",
            "Epoch 00026: val_loss did not improve from 0.14198\n",
            "117/117 [==============================] - 1s 7ms/step - loss: 0.1449 - accuracy: 0.9450 - val_loss: 0.1488 - val_accuracy: 0.9475\n",
            "Epoch 27/100\n",
            "116/117 [============================>.] - ETA: 0s - loss: 0.1520 - accuracy: 0.9407\n",
            "Epoch 00027: val_loss did not improve from 0.14198\n",
            "117/117 [==============================] - 1s 7ms/step - loss: 0.1517 - accuracy: 0.9410 - val_loss: 0.1893 - val_accuracy: 0.9260\n",
            "Epoch 28/100\n",
            "117/117 [==============================] - ETA: 0s - loss: 0.1439 - accuracy: 0.9458\n",
            "Epoch 00028: val_loss did not improve from 0.14198\n",
            "117/117 [==============================] - 1s 7ms/step - loss: 0.1439 - accuracy: 0.9458 - val_loss: 0.1470 - val_accuracy: 0.9528\n",
            "Epoch 29/100\n",
            "116/117 [============================>.] - ETA: 0s - loss: 0.1401 - accuracy: 0.9461\n",
            "Epoch 00029: val_loss improved from 0.14198 to 0.13432, saving model to /content/drive/MyDrive/self_data/tmp_checkpoint.h5\n",
            "117/117 [==============================] - 1s 8ms/step - loss: 0.1400 - accuracy: 0.9464 - val_loss: 0.1343 - val_accuracy: 0.9453\n",
            "Epoch 30/100\n",
            "117/117 [==============================] - ETA: 0s - loss: 0.1491 - accuracy: 0.9450\n",
            "Epoch 00030: val_loss did not improve from 0.13432\n",
            "117/117 [==============================] - 1s 7ms/step - loss: 0.1491 - accuracy: 0.9450 - val_loss: 0.1693 - val_accuracy: 0.9357\n",
            "Epoch 31/100\n",
            "115/117 [============================>.] - ETA: 0s - loss: 0.1359 - accuracy: 0.9465\n",
            "Epoch 00031: val_loss did not improve from 0.13432\n",
            "117/117 [==============================] - 1s 7ms/step - loss: 0.1357 - accuracy: 0.9464 - val_loss: 0.1581 - val_accuracy: 0.9453\n",
            "Epoch 32/100\n",
            "115/117 [============================>.] - ETA: 0s - loss: 0.1252 - accuracy: 0.9527\n",
            "Epoch 00032: val_loss improved from 0.13432 to 0.12940, saving model to /content/drive/MyDrive/self_data/tmp_checkpoint.h5\n",
            "117/117 [==============================] - 1s 8ms/step - loss: 0.1271 - accuracy: 0.9520 - val_loss: 0.1294 - val_accuracy: 0.9443\n",
            "Epoch 33/100\n",
            "110/117 [===========================>..] - ETA: 0s - loss: 0.1225 - accuracy: 0.9520\n",
            "Epoch 00033: val_loss improved from 0.12940 to 0.10523, saving model to /content/drive/MyDrive/self_data/tmp_checkpoint.h5\n",
            "117/117 [==============================] - 1s 8ms/step - loss: 0.1230 - accuracy: 0.9509 - val_loss: 0.1052 - val_accuracy: 0.9593\n",
            "Epoch 34/100\n",
            "109/117 [==========================>...] - ETA: 0s - loss: 0.1183 - accuracy: 0.9567\n",
            "Epoch 00034: val_loss did not improve from 0.10523\n",
            "117/117 [==============================] - 1s 7ms/step - loss: 0.1193 - accuracy: 0.9560 - val_loss: 0.1233 - val_accuracy: 0.9432\n",
            "Epoch 35/100\n",
            "112/117 [===========================>..] - ETA: 0s - loss: 0.1306 - accuracy: 0.9461\n",
            "Epoch 00035: val_loss did not improve from 0.10523\n",
            "117/117 [==============================] - 1s 8ms/step - loss: 0.1292 - accuracy: 0.9469 - val_loss: 0.1146 - val_accuracy: 0.9486\n",
            "Epoch 36/100\n",
            "117/117 [==============================] - ETA: 0s - loss: 0.1089 - accuracy: 0.9549\n",
            "Epoch 00036: val_loss did not improve from 0.10523\n",
            "117/117 [==============================] - 1s 7ms/step - loss: 0.1089 - accuracy: 0.9549 - val_loss: 0.1250 - val_accuracy: 0.9411\n",
            "Epoch 37/100\n",
            "111/117 [===========================>..] - ETA: 0s - loss: 0.1182 - accuracy: 0.9535\n",
            "Epoch 00037: val_loss did not improve from 0.10523\n",
            "117/117 [==============================] - 1s 7ms/step - loss: 0.1204 - accuracy: 0.9528 - val_loss: 0.1081 - val_accuracy: 0.9582\n",
            "Epoch 38/100\n",
            "117/117 [==============================] - ETA: 0s - loss: 0.1157 - accuracy: 0.9541\n",
            "Epoch 00038: val_loss did not improve from 0.10523\n",
            "117/117 [==============================] - 1s 7ms/step - loss: 0.1157 - accuracy: 0.9541 - val_loss: 0.1123 - val_accuracy: 0.9561\n",
            "Epoch 39/100\n",
            "117/117 [==============================] - ETA: 0s - loss: 0.1078 - accuracy: 0.9541\n",
            "Epoch 00039: val_loss did not improve from 0.10523\n",
            "117/117 [==============================] - 1s 7ms/step - loss: 0.1078 - accuracy: 0.9541 - val_loss: 0.1328 - val_accuracy: 0.9475\n",
            "Epoch 40/100\n",
            "114/117 [============================>.] - ETA: 0s - loss: 0.1077 - accuracy: 0.9581\n",
            "Epoch 00040: val_loss did not improve from 0.10523\n",
            "117/117 [==============================] - 1s 7ms/step - loss: 0.1077 - accuracy: 0.9582 - val_loss: 0.1265 - val_accuracy: 0.9550\n",
            "Epoch 41/100\n",
            "114/117 [============================>.] - ETA: 0s - loss: 0.1089 - accuracy: 0.9550\n",
            "Epoch 00041: val_loss did not improve from 0.10523\n",
            "117/117 [==============================] - 1s 8ms/step - loss: 0.1100 - accuracy: 0.9541 - val_loss: 0.1222 - val_accuracy: 0.9507\n",
            "Epoch 42/100\n",
            "113/117 [===========================>..] - ETA: 0s - loss: 0.0953 - accuracy: 0.9585\n",
            "Epoch 00042: val_loss improved from 0.10523 to 0.10223, saving model to /content/drive/MyDrive/self_data/tmp_checkpoint.h5\n",
            "117/117 [==============================] - 2s 14ms/step - loss: 0.0948 - accuracy: 0.9590 - val_loss: 0.1022 - val_accuracy: 0.9593\n",
            "Epoch 43/100\n",
            "116/117 [============================>.] - ETA: 0s - loss: 0.0956 - accuracy: 0.9599\n",
            "Epoch 00043: val_loss improved from 0.10223 to 0.09363, saving model to /content/drive/MyDrive/self_data/tmp_checkpoint.h5\n",
            "117/117 [==============================] - 1s 8ms/step - loss: 0.0956 - accuracy: 0.9598 - val_loss: 0.0936 - val_accuracy: 0.9636\n",
            "Epoch 44/100\n",
            "110/117 [===========================>..] - ETA: 0s - loss: 0.0972 - accuracy: 0.9597\n",
            "Epoch 00044: val_loss did not improve from 0.09363\n",
            "117/117 [==============================] - 1s 7ms/step - loss: 0.0964 - accuracy: 0.9598 - val_loss: 0.1098 - val_accuracy: 0.9571\n",
            "Epoch 45/100\n",
            "114/117 [============================>.] - ETA: 0s - loss: 0.0989 - accuracy: 0.9608\n",
            "Epoch 00045: val_loss did not improve from 0.09363\n",
            "117/117 [==============================] - 1s 7ms/step - loss: 0.1003 - accuracy: 0.9600 - val_loss: 0.1229 - val_accuracy: 0.9518\n",
            "Epoch 46/100\n",
            "113/117 [===========================>..] - ETA: 0s - loss: 0.0864 - accuracy: 0.9643\n",
            "Epoch 00046: val_loss improved from 0.09363 to 0.07185, saving model to /content/drive/MyDrive/self_data/tmp_checkpoint.h5\n",
            "117/117 [==============================] - 1s 8ms/step - loss: 0.0869 - accuracy: 0.9638 - val_loss: 0.0719 - val_accuracy: 0.9700\n",
            "Epoch 47/100\n",
            "115/117 [============================>.] - ETA: 0s - loss: 0.0862 - accuracy: 0.9677\n",
            "Epoch 00047: val_loss did not improve from 0.07185\n",
            "117/117 [==============================] - 1s 8ms/step - loss: 0.0865 - accuracy: 0.9673 - val_loss: 0.1774 - val_accuracy: 0.9303\n",
            "Epoch 48/100\n",
            "111/117 [===========================>..] - ETA: 0s - loss: 0.1085 - accuracy: 0.9572\n",
            "Epoch 00048: val_loss did not improve from 0.07185\n",
            "117/117 [==============================] - 1s 7ms/step - loss: 0.1068 - accuracy: 0.9582 - val_loss: 0.1038 - val_accuracy: 0.9625\n",
            "Epoch 49/100\n",
            "113/117 [===========================>..] - ETA: 0s - loss: 0.0785 - accuracy: 0.9665\n",
            "Epoch 00049: val_loss did not improve from 0.07185\n",
            "117/117 [==============================] - 1s 7ms/step - loss: 0.0774 - accuracy: 0.9667 - val_loss: 0.0822 - val_accuracy: 0.9668\n",
            "Epoch 50/100\n",
            "117/117 [==============================] - ETA: 0s - loss: 0.0840 - accuracy: 0.9670\n",
            "Epoch 00050: val_loss did not improve from 0.07185\n",
            "117/117 [==============================] - 1s 7ms/step - loss: 0.0840 - accuracy: 0.9670 - val_loss: 0.1159 - val_accuracy: 0.9453\n",
            "Epoch 51/100\n",
            "116/117 [============================>.] - ETA: 0s - loss: 0.0857 - accuracy: 0.9666\n",
            "Epoch 00051: val_loss did not improve from 0.07185\n",
            "117/117 [==============================] - 1s 8ms/step - loss: 0.0857 - accuracy: 0.9667 - val_loss: 0.0775 - val_accuracy: 0.9700\n",
            "Epoch 52/100\n",
            "114/117 [============================>.] - ETA: 0s - loss: 0.0838 - accuracy: 0.9677\n",
            "Epoch 00052: val_loss did not improve from 0.07185\n",
            "117/117 [==============================] - 1s 8ms/step - loss: 0.0834 - accuracy: 0.9673 - val_loss: 0.0858 - val_accuracy: 0.9603\n",
            "Epoch 53/100\n",
            "113/117 [===========================>..] - ETA: 0s - loss: 0.0832 - accuracy: 0.9671\n",
            "Epoch 00053: val_loss did not improve from 0.07185\n",
            "117/117 [==============================] - 1s 8ms/step - loss: 0.0834 - accuracy: 0.9667 - val_loss: 0.0862 - val_accuracy: 0.9711\n",
            "Epoch 54/100\n",
            "116/117 [============================>.] - ETA: 0s - loss: 0.0764 - accuracy: 0.9671\n",
            "Epoch 00054: val_loss did not improve from 0.07185\n",
            "117/117 [==============================] - 1s 8ms/step - loss: 0.0761 - accuracy: 0.9673 - val_loss: 0.1086 - val_accuracy: 0.9561\n",
            "Epoch 55/100\n",
            "117/117 [==============================] - ETA: 0s - loss: 0.1028 - accuracy: 0.9608\n",
            "Epoch 00055: val_loss did not improve from 0.07185\n",
            "117/117 [==============================] - 1s 7ms/step - loss: 0.1028 - accuracy: 0.9608 - val_loss: 0.0795 - val_accuracy: 0.9678\n",
            "Epoch 56/100\n",
            "116/117 [============================>.] - ETA: 0s - loss: 0.0686 - accuracy: 0.9725\n",
            "Epoch 00056: val_loss did not improve from 0.07185\n",
            "117/117 [==============================] - 1s 7ms/step - loss: 0.0683 - accuracy: 0.9726 - val_loss: 0.0868 - val_accuracy: 0.9636\n",
            "Epoch 57/100\n",
            "114/117 [============================>.] - ETA: 0s - loss: 0.0866 - accuracy: 0.9638\n",
            "Epoch 00057: val_loss did not improve from 0.07185\n",
            "117/117 [==============================] - 1s 7ms/step - loss: 0.0854 - accuracy: 0.9646 - val_loss: 0.0909 - val_accuracy: 0.9700\n",
            "Epoch 58/100\n",
            "112/117 [===========================>..] - ETA: 0s - loss: 0.0752 - accuracy: 0.9682\n",
            "Epoch 00058: val_loss did not improve from 0.07185\n",
            "117/117 [==============================] - 1s 8ms/step - loss: 0.0769 - accuracy: 0.9675 - val_loss: 0.0787 - val_accuracy: 0.9593\n",
            "Epoch 59/100\n",
            "113/117 [===========================>..] - ETA: 0s - loss: 0.0667 - accuracy: 0.9726\n",
            "Epoch 00059: val_loss did not improve from 0.07185\n",
            "117/117 [==============================] - 1s 8ms/step - loss: 0.0664 - accuracy: 0.9729 - val_loss: 0.0804 - val_accuracy: 0.9700\n",
            "Epoch 60/100\n",
            "117/117 [==============================] - ETA: 0s - loss: 0.0725 - accuracy: 0.9700\n",
            "Epoch 00060: val_loss improved from 0.07185 to 0.06815, saving model to /content/drive/MyDrive/self_data/tmp_checkpoint.h5\n",
            "117/117 [==============================] - 1s 12ms/step - loss: 0.0725 - accuracy: 0.9700 - val_loss: 0.0682 - val_accuracy: 0.9796\n",
            "Epoch 61/100\n",
            "114/117 [============================>.] - ETA: 0s - loss: 0.0641 - accuracy: 0.9745\n",
            "Epoch 00061: val_loss did not improve from 0.06815\n",
            "117/117 [==============================] - 1s 8ms/step - loss: 0.0647 - accuracy: 0.9742 - val_loss: 0.0869 - val_accuracy: 0.9678\n",
            "Epoch 62/100\n",
            "115/117 [============================>.] - ETA: 0s - loss: 0.0611 - accuracy: 0.9750\n",
            "Epoch 00062: val_loss did not improve from 0.06815\n",
            "117/117 [==============================] - 1s 7ms/step - loss: 0.0613 - accuracy: 0.9748 - val_loss: 0.0728 - val_accuracy: 0.9743\n",
            "Epoch 63/100\n",
            "115/117 [============================>.] - ETA: 0s - loss: 0.0700 - accuracy: 0.9720\n",
            "Epoch 00063: val_loss did not improve from 0.06815\n",
            "117/117 [==============================] - 1s 8ms/step - loss: 0.0697 - accuracy: 0.9724 - val_loss: 0.0840 - val_accuracy: 0.9657\n",
            "Epoch 64/100\n",
            "115/117 [============================>.] - ETA: 0s - loss: 0.0572 - accuracy: 0.9785\n",
            "Epoch 00064: val_loss improved from 0.06815 to 0.05994, saving model to /content/drive/MyDrive/self_data/tmp_checkpoint.h5\n",
            "117/117 [==============================] - 1s 8ms/step - loss: 0.0573 - accuracy: 0.9783 - val_loss: 0.0599 - val_accuracy: 0.9775\n",
            "Epoch 65/100\n",
            "112/117 [===========================>..] - ETA: 0s - loss: 0.0594 - accuracy: 0.9754\n",
            "Epoch 00065: val_loss did not improve from 0.05994\n",
            "117/117 [==============================] - 1s 8ms/step - loss: 0.0588 - accuracy: 0.9756 - val_loss: 0.0785 - val_accuracy: 0.9657\n",
            "Epoch 66/100\n",
            "114/117 [============================>.] - ETA: 0s - loss: 0.0543 - accuracy: 0.9789\n",
            "Epoch 00066: val_loss did not improve from 0.05994\n",
            "117/117 [==============================] - 1s 8ms/step - loss: 0.0542 - accuracy: 0.9791 - val_loss: 0.0776 - val_accuracy: 0.9711\n",
            "Epoch 67/100\n",
            "116/117 [============================>.] - ETA: 0s - loss: 0.1006 - accuracy: 0.9655\n",
            "Epoch 00067: val_loss did not improve from 0.05994\n",
            "117/117 [==============================] - 1s 7ms/step - loss: 0.1004 - accuracy: 0.9657 - val_loss: 0.0870 - val_accuracy: 0.9646\n",
            "Epoch 68/100\n",
            "115/117 [============================>.] - ETA: 0s - loss: 0.0712 - accuracy: 0.9712\n",
            "Epoch 00068: val_loss did not improve from 0.05994\n",
            "117/117 [==============================] - 1s 8ms/step - loss: 0.0707 - accuracy: 0.9716 - val_loss: 0.0794 - val_accuracy: 0.9657\n",
            "Epoch 69/100\n",
            "113/117 [===========================>..] - ETA: 0s - loss: 0.0630 - accuracy: 0.9732\n",
            "Epoch 00069: val_loss did not improve from 0.05994\n",
            "117/117 [==============================] - 1s 7ms/step - loss: 0.0624 - accuracy: 0.9734 - val_loss: 0.1039 - val_accuracy: 0.9496\n",
            "Epoch 70/100\n",
            "110/117 [===========================>..] - ETA: 0s - loss: 0.0690 - accuracy: 0.9736\n",
            "Epoch 00070: val_loss did not improve from 0.05994\n",
            "117/117 [==============================] - 1s 7ms/step - loss: 0.0674 - accuracy: 0.9740 - val_loss: 0.0657 - val_accuracy: 0.9646\n",
            "Epoch 71/100\n",
            "112/117 [===========================>..] - ETA: 0s - loss: 0.0581 - accuracy: 0.9810\n",
            "Epoch 00071: val_loss did not improve from 0.05994\n",
            "117/117 [==============================] - 1s 8ms/step - loss: 0.0580 - accuracy: 0.9807 - val_loss: 0.0662 - val_accuracy: 0.9753\n",
            "Epoch 72/100\n",
            "111/117 [===========================>..] - ETA: 0s - loss: 0.0515 - accuracy: 0.9794\n",
            "Epoch 00072: val_loss improved from 0.05994 to 0.04685, saving model to /content/drive/MyDrive/self_data/tmp_checkpoint.h5\n",
            "117/117 [==============================] - 1s 8ms/step - loss: 0.0502 - accuracy: 0.9802 - val_loss: 0.0469 - val_accuracy: 0.9829\n",
            "Epoch 73/100\n",
            "111/117 [===========================>..] - ETA: 0s - loss: 0.0752 - accuracy: 0.9707\n",
            "Epoch 00073: val_loss did not improve from 0.04685\n",
            "117/117 [==============================] - 1s 8ms/step - loss: 0.0728 - accuracy: 0.9718 - val_loss: 0.0539 - val_accuracy: 0.9861\n",
            "Epoch 74/100\n",
            "115/117 [============================>.] - ETA: 0s - loss: 0.0477 - accuracy: 0.9818\n",
            "Epoch 00074: val_loss improved from 0.04685 to 0.04371, saving model to /content/drive/MyDrive/self_data/tmp_checkpoint.h5\n",
            "117/117 [==============================] - 1s 8ms/step - loss: 0.0476 - accuracy: 0.9820 - val_loss: 0.0437 - val_accuracy: 0.9796\n",
            "Epoch 75/100\n",
            "114/117 [============================>.] - ETA: 0s - loss: 0.0456 - accuracy: 0.9816\n",
            "Epoch 00075: val_loss did not improve from 0.04371\n",
            "117/117 [==============================] - 1s 7ms/step - loss: 0.0470 - accuracy: 0.9812 - val_loss: 0.1819 - val_accuracy: 0.9271\n",
            "Epoch 76/100\n",
            "111/117 [===========================>..] - ETA: 0s - loss: 0.0546 - accuracy: 0.9809\n",
            "Epoch 00076: val_loss did not improve from 0.04371\n",
            "117/117 [==============================] - 1s 7ms/step - loss: 0.0579 - accuracy: 0.9802 - val_loss: 0.0502 - val_accuracy: 0.9829\n",
            "Epoch 77/100\n",
            "110/117 [===========================>..] - ETA: 0s - loss: 0.0416 - accuracy: 0.9841\n",
            "Epoch 00077: val_loss did not improve from 0.04371\n",
            "117/117 [==============================] - 1s 7ms/step - loss: 0.0404 - accuracy: 0.9847 - val_loss: 0.0616 - val_accuracy: 0.9721\n",
            "Epoch 78/100\n",
            "114/117 [============================>.] - ETA: 0s - loss: 0.0584 - accuracy: 0.9751\n",
            "Epoch 00078: val_loss did not improve from 0.04371\n",
            "117/117 [==============================] - 1s 8ms/step - loss: 0.0576 - accuracy: 0.9756 - val_loss: 0.0506 - val_accuracy: 0.9786\n",
            "Epoch 79/100\n",
            "112/117 [===========================>..] - ETA: 0s - loss: 0.0463 - accuracy: 0.9824\n",
            "Epoch 00079: val_loss did not improve from 0.04371\n",
            "117/117 [==============================] - 1s 8ms/step - loss: 0.0465 - accuracy: 0.9826 - val_loss: 0.0497 - val_accuracy: 0.9829\n",
            "Epoch 80/100\n",
            "115/117 [============================>.] - ETA: 0s - loss: 0.0394 - accuracy: 0.9851\n",
            "Epoch 00080: val_loss did not improve from 0.04371\n",
            "117/117 [==============================] - 1s 7ms/step - loss: 0.0391 - accuracy: 0.9852 - val_loss: 0.0461 - val_accuracy: 0.9871\n",
            "Epoch 81/100\n",
            "116/117 [============================>.] - ETA: 0s - loss: 0.0755 - accuracy: 0.9739\n",
            "Epoch 00081: val_loss did not improve from 0.04371\n",
            "117/117 [==============================] - 1s 8ms/step - loss: 0.0756 - accuracy: 0.9737 - val_loss: 0.0627 - val_accuracy: 0.9721\n",
            "Epoch 82/100\n",
            "112/117 [===========================>..] - ETA: 0s - loss: 0.0576 - accuracy: 0.9766\n",
            "Epoch 00082: val_loss did not improve from 0.04371\n",
            "117/117 [==============================] - 1s 8ms/step - loss: 0.0568 - accuracy: 0.9772 - val_loss: 0.0458 - val_accuracy: 0.9818\n",
            "Epoch 83/100\n",
            "114/117 [============================>.] - ETA: 0s - loss: 0.0411 - accuracy: 0.9860\n",
            "Epoch 00083: val_loss did not improve from 0.04371\n",
            "117/117 [==============================] - 1s 8ms/step - loss: 0.0405 - accuracy: 0.9863 - val_loss: 0.0453 - val_accuracy: 0.9807\n",
            "Epoch 84/100\n",
            "114/117 [============================>.] - ETA: 0s - loss: 0.0355 - accuracy: 0.9871\n",
            "Epoch 00084: val_loss did not improve from 0.04371\n",
            "117/117 [==============================] - 1s 8ms/step - loss: 0.0351 - accuracy: 0.9874 - val_loss: 0.0479 - val_accuracy: 0.9818\n",
            "Epoch 85/100\n",
            "117/117 [==============================] - ETA: 0s - loss: 0.0402 - accuracy: 0.9861\n",
            "Epoch 00085: val_loss did not improve from 0.04371\n",
            "117/117 [==============================] - 1s 7ms/step - loss: 0.0402 - accuracy: 0.9861 - val_loss: 0.0502 - val_accuracy: 0.9818\n",
            "Epoch 86/100\n",
            "113/117 [===========================>..] - ETA: 0s - loss: 0.0359 - accuracy: 0.9864\n",
            "Epoch 00086: val_loss did not improve from 0.04371\n",
            "117/117 [==============================] - 1s 8ms/step - loss: 0.0358 - accuracy: 0.9863 - val_loss: 0.0464 - val_accuracy: 0.9818\n",
            "Epoch 87/100\n",
            "110/117 [===========================>..] - ETA: 0s - loss: 0.0317 - accuracy: 0.9886\n",
            "Epoch 00087: val_loss did not improve from 0.04371\n",
            "117/117 [==============================] - 1s 8ms/step - loss: 0.0322 - accuracy: 0.9885 - val_loss: 0.0473 - val_accuracy: 0.9850\n",
            "Epoch 88/100\n",
            "115/117 [============================>.] - ETA: 0s - loss: 0.0340 - accuracy: 0.9851\n",
            "Epoch 00088: val_loss did not improve from 0.04371\n",
            "117/117 [==============================] - 1s 7ms/step - loss: 0.0337 - accuracy: 0.9852 - val_loss: 0.0685 - val_accuracy: 0.9732\n",
            "Epoch 89/100\n",
            "115/117 [============================>.] - ETA: 0s - loss: 0.0514 - accuracy: 0.9815\n",
            "Epoch 00089: val_loss improved from 0.04371 to 0.03466, saving model to /content/drive/MyDrive/self_data/tmp_checkpoint.h5\n",
            "117/117 [==============================] - 2s 13ms/step - loss: 0.0514 - accuracy: 0.9815 - val_loss: 0.0347 - val_accuracy: 0.9914\n",
            "Epoch 90/100\n",
            "112/117 [===========================>..] - ETA: 0s - loss: 0.0221 - accuracy: 0.9933\n",
            "Epoch 00090: val_loss did not improve from 0.03466\n",
            "117/117 [==============================] - 1s 8ms/step - loss: 0.0216 - accuracy: 0.9936 - val_loss: 0.0605 - val_accuracy: 0.9775\n",
            "Epoch 91/100\n",
            "114/117 [============================>.] - ETA: 0s - loss: 0.0375 - accuracy: 0.9863\n",
            "Epoch 00091: val_loss did not improve from 0.03466\n",
            "117/117 [==============================] - 1s 8ms/step - loss: 0.0373 - accuracy: 0.9863 - val_loss: 0.0451 - val_accuracy: 0.9764\n",
            "Epoch 92/100\n",
            "111/117 [===========================>..] - ETA: 0s - loss: 0.0545 - accuracy: 0.9820\n",
            "Epoch 00092: val_loss did not improve from 0.03466\n",
            "117/117 [==============================] - 1s 8ms/step - loss: 0.0568 - accuracy: 0.9812 - val_loss: 0.0897 - val_accuracy: 0.9625\n",
            "Epoch 93/100\n",
            "112/117 [===========================>..] - ETA: 0s - loss: 0.0521 - accuracy: 0.9802\n",
            "Epoch 00093: val_loss did not improve from 0.03466\n",
            "117/117 [==============================] - 1s 8ms/step - loss: 0.0517 - accuracy: 0.9802 - val_loss: 0.0420 - val_accuracy: 0.9818\n",
            "Epoch 94/100\n",
            "112/117 [===========================>..] - ETA: 0s - loss: 0.0371 - accuracy: 0.9830\n",
            "Epoch 00094: val_loss did not improve from 0.03466\n",
            "117/117 [==============================] - 1s 8ms/step - loss: 0.0361 - accuracy: 0.9836 - val_loss: 0.0414 - val_accuracy: 0.9871\n",
            "Epoch 95/100\n",
            "114/117 [============================>.] - ETA: 0s - loss: 0.0510 - accuracy: 0.9767\n",
            "Epoch 00095: val_loss did not improve from 0.03466\n",
            "117/117 [==============================] - 1s 7ms/step - loss: 0.0503 - accuracy: 0.9769 - val_loss: 0.0476 - val_accuracy: 0.9753\n",
            "Epoch 96/100\n",
            "113/117 [===========================>..] - ETA: 0s - loss: 0.0332 - accuracy: 0.9859\n",
            "Epoch 00096: val_loss did not improve from 0.03466\n",
            "117/117 [==============================] - 1s 8ms/step - loss: 0.0328 - accuracy: 0.9861 - val_loss: 0.0369 - val_accuracy: 0.9850\n",
            "Epoch 97/100\n",
            "117/117 [==============================] - ETA: 0s - loss: 0.0337 - accuracy: 0.9858\n",
            "Epoch 00097: val_loss did not improve from 0.03466\n",
            "117/117 [==============================] - 1s 7ms/step - loss: 0.0337 - accuracy: 0.9858 - val_loss: 0.0397 - val_accuracy: 0.9829\n",
            "Epoch 98/100\n",
            "114/117 [============================>.] - ETA: 0s - loss: 0.0618 - accuracy: 0.9814\n",
            "Epoch 00098: val_loss improved from 0.03466 to 0.03300, saving model to /content/drive/MyDrive/self_data/tmp_checkpoint.h5\n",
            "117/117 [==============================] - 2s 13ms/step - loss: 0.0613 - accuracy: 0.9815 - val_loss: 0.0330 - val_accuracy: 0.9850\n",
            "Epoch 99/100\n",
            "112/117 [===========================>..] - ETA: 0s - loss: 0.0458 - accuracy: 0.9835\n",
            "Epoch 00099: val_loss did not improve from 0.03300\n",
            "117/117 [==============================] - 1s 8ms/step - loss: 0.0449 - accuracy: 0.9839 - val_loss: 0.0602 - val_accuracy: 0.9786\n",
            "Epoch 100/100\n",
            "112/117 [===========================>..] - ETA: 0s - loss: 0.0434 - accuracy: 0.9863\n",
            "Epoch 00100: val_loss did not improve from 0.03300\n",
            "117/117 [==============================] - 1s 8ms/step - loss: 0.0440 - accuracy: 0.9858 - val_loss: 0.0752 - val_accuracy: 0.9700\n"
          ]
        }
      ]
    },
    {
      "cell_type": "code",
      "metadata": {
        "colab": {
          "base_uri": "https://localhost:8080/"
        },
        "id": "e2IhH9nxnCpP",
        "outputId": "8ec18678-bad1-4bd6-d848-1ca1df8e301d"
      },
      "source": [
        "score = model.evaluate(x_train,y_train)\n",
        "print(score[1])\n",
        "print(score[0])\n",
        "# p = pd.DataFrame(pre.round())\n",
        "# p\n",
        "# x = pd.DataFrame(y_train)\n",
        "# t = pd.concat([p,x],axis=1)\n",
        "# (t.iloc[:,1] + t.iloc[:,0]).value_counts()"
      ],
      "execution_count": null,
      "outputs": [
        {
          "output_type": "stream",
          "name": "stdout",
          "text": [
            "117/117 [==============================] - 0s 4ms/step - loss: 0.0625 - accuracy: 0.9791\n",
            "0.9790772795677185\n",
            "0.06249145045876503\n"
          ]
        }
      ]
    },
    {
      "cell_type": "code",
      "metadata": {
        "id": "3rWrgFDVok4O"
      },
      "source": [
        "path2 = '/content/drive/MyDrive/self_data/우리가찍은거tosisfall/'"
      ],
      "execution_count": null,
      "outputs": []
    },
    {
      "cell_type": "code",
      "metadata": {
        "id": "4hZ4Awf4F1dq",
        "colab": {
          "base_uri": "https://localhost:8080/"
        },
        "outputId": "114e06d7-22fe-4e48-f6ee-905617ba9d38"
      },
      "source": [
        "os.listdir(path2)"
      ],
      "execution_count": null,
      "outputs": [
        {
          "output_type": "execute_result",
          "data": {
            "text/plain": [
              "['F02_SA01_R03.csv',\n",
              " 'F02_SA01_R02.csv',\n",
              " 'F01_SA01_R01.csv',\n",
              " 'F02_SA01_R01.csv',\n",
              " 'F04_SA01_R02.csv',\n",
              " 'F04_SA01_R01.csv',\n",
              " 'F01_SA01_R03.csv',\n",
              " 'F03_SA01_R02.csv',\n",
              " 'F03_SA01_R03.csv',\n",
              " 'F01_SA01_R02.csv',\n",
              " 'F04_SA01_R03.csv',\n",
              " 'F03_SA01_R01.csv']"
            ]
          },
          "metadata": {},
          "execution_count": 22
        }
      ]
    },
    {
      "cell_type": "code",
      "metadata": {
        "id": "MkQyxX5GoqAJ"
      },
      "source": [
        "names = os.listdir(path2)\n",
        "sublist = []\n",
        "for name in names:\n",
        "    t = pd.read_csv(path2 + name)\n",
        "    t.columns = ['time', 'ADXL_x', 'ADXL_y', 'ADXL_z', 'ITG_x', 'ITG_y','ITG_z', 'vm','gm']\n",
        "    t['activity'] = name[:3]\n",
        "    t['person'] = 'SA01'\n",
        "    t.drop(['vm','gm'],axis=1)\n",
        "    sublist.append(t)"
      ],
      "execution_count": null,
      "outputs": []
    },
    {
      "cell_type": "code",
      "metadata": {
        "id": "yBYyyhYWFgUi"
      },
      "source": [
        "df_list = preprocess2(sublist, 50,['g_sum','diff_sum','vm2'] )"
      ],
      "execution_count": null,
      "outputs": []
    },
    {
      "cell_type": "code",
      "metadata": {
        "id": "rOu0eGfaFk2j"
      },
      "source": [
        "x = []\n",
        "y = []\n",
        "for df in df_list:\n",
        "    for i in range(len(df) - windowsize):\n",
        "        df_x = df.drop('label',axis=1).iloc[i : i+ windowsize]\n",
        "        df_y = df['label'].iloc[i+windowsize]\n",
        "        x.append(df_x)\n",
        "        y.append(df_y)\n",
        "x = np.array(x)\n",
        "y = np.array(y)\n",
        "x_train, x_valid, y_train, y_valid = train_test_split(x, y, test_size=0.2, random_state = 0)"
      ],
      "execution_count": null,
      "outputs": []
    },
    {
      "cell_type": "code",
      "metadata": {
        "id": "a5y-OjPvFk0c",
        "colab": {
          "base_uri": "https://localhost:8080/"
        },
        "outputId": "c1ab4da5-673b-41f4-dfb0-1128f7717d45"
      },
      "source": [
        "score = model.evaluate(x_train,y_train)\n",
        "print(score[1])\n",
        "print(score[0])"
      ],
      "execution_count": null,
      "outputs": [
        {
          "output_type": "stream",
          "name": "stdout",
          "text": [
            "42/42 [==============================] - 0s 4ms/step - loss: 0.7211 - accuracy: 0.8720\n",
            "0.8719696998596191\n",
            "0.7210729122161865\n"
          ]
        }
      ]
    },
    {
      "cell_type": "code",
      "metadata": {
        "id": "wlyRgRyanmF8"
      },
      "source": [
        "\n",
        "trial_df = sublist[5].copy()\n",
        "\n",
        "rol_val = 50\n",
        "\n",
        "trial_df.reset_index(inplace=True)\n",
        "tempdf = pd.DataFrame()\n",
        "tempdf['ax'], tempdf['ay'], tempdf['az'] = trial_df['ADXL_x'], trial_df['ADXL_y'], trial_df['ADXL_z']\n",
        "tempdf['fx'] = pd.Series(butter_lowpass_filter(trial_df['ADXL_x'], cutoff, fs, order))\n",
        "tempdf['fy'] = pd.Series(butter_lowpass_filter(trial_df['ADXL_y'], cutoff, fs, order))\n",
        "tempdf['fz'] = pd.Series(butter_lowpass_filter(trial_df['ADXL_z'], cutoff, fs, order))\n",
        "tempdf['vs'] = np.sqrt(tempdf['ax'] ** 2 + tempdf['ay'] ** 2 + tempdf['az'] ** 2)\n",
        "tempdf['vm2'] =np.sqrt(tempdf['fx'] ** 2 + tempdf['fy'] ** 2 + tempdf['fz'] ** 2)\n",
        "\n",
        "tempdf['bx'] = tempdf['fx'].diff()\n",
        "tempdf['by'] = tempdf['fy'].diff()\n",
        "tempdf['bz'] = tempdf['fz'].diff()\n",
        "tempdf['diff_sum'] = np.sqrt(tempdf['bx'] ** 2 + tempdf['by'] ** 2 + tempdf['bz'] ** 2)\n",
        "tempdf['activity'] = trial_df['activity']\n",
        "tempdf['person'] = trial_df['person']\n",
        "\n",
        "tempdf['gx'], tempdf['gy'], tempdf['gz'] = trial_df['ITG_x'], trial_df['ITG_y'], trial_df['ITG_z']\n",
        "tempdf['g_fx'] = pd.Series(butter_lowpass_filter(tempdf['gx'], cutoff, fs, order))\n",
        "tempdf['g_fy'] = pd.Series(butter_lowpass_filter(tempdf['gy'], cutoff, fs, order))\n",
        "tempdf['g_fz'] = pd.Series(butter_lowpass_filter(tempdf['gz'], cutoff, fs, order))\n",
        "tempdf['g_sum'] = np.sqrt(tempdf['g_fx'] ** 2 + tempdf['g_fy'] ** 2 + tempdf['g_fz'] ** 2)\n",
        "\n",
        "#Rolling standard deviations\n",
        "tempdf['bx_std'] = tempdf['bx'].rolling(rol_val,min_periods = 1).std()\n",
        "tempdf['by_std'] = tempdf['by'].rolling(rol_val,min_periods = 1).std()\n",
        "tempdf['bz_std'] = tempdf['bz'].rolling(rol_val,min_periods = 1).std()\n",
        "tempdf['fx_std'] = tempdf['fx'].rolling(rol_val,min_periods = 1).std()\n",
        "tempdf['fy_std'] = tempdf['fy'].rolling(rol_val,min_periods = 1).std()\n",
        "tempdf['fz_std'] = tempdf['fz'].rolling(rol_val,min_periods = 1).std()\n",
        "tempdf['gx_std'] = tempdf['gx'].rolling(rol_val,min_periods = 1).std()\n",
        "tempdf['gy_std'] = tempdf['gy'].rolling(rol_val,min_periods = 1).std()\n",
        "tempdf['gz_std'] = tempdf['gz'].rolling(rol_val,min_periods = 1).std()\n",
        "\n",
        "# had to make versions of this to put into sliding window, will change once I\n",
        "# confirm they're the same as the others below\n",
        "#C8\n",
        "tempdf['horiz_std_mag9'] = np.sqrt(tempdf['fx_std'] ** 2 + tempdf['fz_std'] ** 2)\n",
        "#C2\n",
        "tempdf['horiz_vector_mag9'] = np.sqrt(tempdf['fx'] ** 2 + tempdf['fz'] ** 2)\n",
        "tempdf['std_mag9'] = np.sqrt(tempdf['fx_std'] ** 2 + tempdf['fy_std'] ** 2 + tempdf['fz_std'] ** 2)\n",
        "#C9\n",
        "tempdf['horiz_std_mag2'] = np.sqrt(tempdf['bx_std'] ** 2 + tempdf['bz_std'] ** 2)\n",
        "tempdf['gyro_horiz_std_mag'] = np.sqrt(tempdf['gx_std'] ** 2 + tempdf['gz_std'] ** 2)\n",
        "tempdf['gyro_vector_mag'] = np.sqrt(tempdf['gx'] ** 2 + tempdf['gy'] ** 2 + tempdf['gz'] ** 2)\n",
        "tempdf['gyro_horiz_mag'] = np.sqrt(tempdf['gx'] ** 2 + tempdf['gz'] ** 2)\n",
        "# C2\n",
        "tempdf['horiz_mag'] = np.sqrt(tempdf['fx'] ** 2 + tempdf['fz'] ** 2)\n",
        "\n",
        "tempdf = tempdf.loc[:,['g_sum','diff_sum','vm2']]\n",
        "tempdf = (tempdf - tempdf.min()) / (tempdf.max() - tempdf.min())\n",
        "k = tempdf['vm2'].idxmax()\n",
        "tempdf = tempdf.fillna(0)\n",
        "tempdf['label'] = 0\n",
        "tempdf['label'].loc[k - 40 : k] = 1\n",
        "real_df = tempdf.copy()\n",
        "tempdf = tempdf.loc[:k]\n"
      ],
      "execution_count": null,
      "outputs": []
    },
    {
      "cell_type": "code",
      "metadata": {
        "id": "GAnWL4Zz9UMf"
      },
      "source": [
        "df = tempdf\n",
        "x = []\n",
        "y = []\n",
        "for i in range(len(df) - 15):\n",
        "    df_x = df.drop('label',axis=1).iloc[i : i+ 15]\n",
        "    df_y = df['label'].iloc[i+15]\n",
        "    x.append(df_x)\n",
        "    y.append(df_y)\n",
        "x = np.array(x)\n",
        "y = np.array(y)"
      ],
      "execution_count": null,
      "outputs": []
    },
    {
      "cell_type": "code",
      "metadata": {
        "colab": {
          "base_uri": "https://localhost:8080/"
        },
        "id": "aaAQte6q6DeF",
        "outputId": "176d1ae1-2ced-438c-de12-de85e5986ca2"
      },
      "source": [
        "model.evaluate(x,y)"
      ],
      "execution_count": null,
      "outputs": [
        {
          "output_type": "stream",
          "name": "stdout",
          "text": [
            "6/6 [==============================] - 0s 4ms/step - loss: 0.0117 - accuracy: 1.0000\n"
          ]
        },
        {
          "output_type": "execute_result",
          "data": {
            "text/plain": [
              "[0.011671802029013634, 1.0]"
            ]
          },
          "metadata": {},
          "execution_count": 189
        }
      ]
    },
    {
      "cell_type": "code",
      "metadata": {
        "id": "Bq6DzCU2-taA"
      },
      "source": [
        "zeros = np.zeros((15,1))\n",
        "pre = model.predict(x)\n",
        "pre = pre.round()\n",
        "conca = np.concatenate((zeros, pre), axis=0)"
      ],
      "execution_count": null,
      "outputs": []
    },
    {
      "cell_type": "code",
      "metadata": {
        "id": "BVy3lvLltj4d"
      },
      "source": [
        "k = real_df"
      ],
      "execution_count": null,
      "outputs": []
    },
    {
      "cell_type": "code",
      "metadata": {
        "id": "p8giVgCsuRXZ"
      },
      "source": [
        "t = len(k) - len(conca)\n",
        "ones = np.ones((t,1))\n",
        "conca = np.concatenate((conca, ones), axis=0)\n",
        "pre_list = conca.reshape(-1,).tolist()\n"
      ],
      "execution_count": null,
      "outputs": []
    },
    {
      "cell_type": "code",
      "metadata": {
        "id": "bwttGohD81eJ"
      },
      "source": [
        "zeroy= np.zeros((15,))"
      ],
      "execution_count": null,
      "outputs": []
    },
    {
      "cell_type": "code",
      "metadata": {
        "id": "Ot571VJ99Y7T"
      },
      "source": [
        "np.where(conca == 1)"
      ],
      "execution_count": null,
      "outputs": []
    },
    {
      "cell_type": "code",
      "metadata": {
        "colab": {
          "base_uri": "https://localhost:8080/",
          "height": 362
        },
        "id": "6iWyuTgo8-ol",
        "outputId": "5422a1d7-be93-4c70-993e-645f53a37b75"
      },
      "source": [
        "plt.plot(pre_list)\n",
        "plt.plot(k.vm2)\n",
        "plt.plot(np.concatenate((zeroy, y),axis=0).tolist())\n",
        "plt.show()"
      ],
      "execution_count": null,
      "outputs": [
        {
          "output_type": "display_data",
          "data": {
            "image/png": "[encoded data removed]",
            "text/plain": [
              "<Figure size 600x400 with 1 Axes>"
            ]
          },
          "metadata": {
            "needs_background": "light"
          }
        }
      ]
    },
    {
      "cell_type": "code",
      "metadata": {
        "colab": {
          "base_uri": "https://localhost:8080/",
          "height": 349
        },
        "id": "pLA4xaAD6QLo",
        "outputId": "7a5bdafc-b651-4247-f15f-75e68e59d799"
      },
      "source": [
        "fig = plt.figure()\n",
        "ax = plt.axes(xlim=(0, 15), ylim=(-0.5, 1.2))\n",
        "line, = ax.plot([], [], lw=0.5)\n",
        "line2, = ax.plot([],[], lw=0.5)\n",
        "line3, = ax.plot([],[], lw=0.5)\n",
        "line4, = ax.plot([],[], lw=1.5)\n",
        "ax.legend([line, line2,line3,line4], ['vm2', 'g_sum','diff_sum','naksang'], loc='upper left')\n",
        "plt.setp( ax.get_xticklabels(), visible=False)\n",
        "\n",
        "# initialization function: plot the background of each frame\n",
        "def init():\n",
        "    line.set_data([], [])\n",
        "    line2.set_data([], [])\n",
        "    line3.set_data([], [])\n",
        "    line4.set_data([], [])\n",
        "\n",
        "    return line, line2, line3, line4,\n",
        "# animation function.  This is called sequentially\n",
        "def animate(i):\n",
        "    x = np.linspace(662/50, 0, 662)\n",
        "    line.set_data(x[:i], k['vm2'][:i][::-1])\n",
        "    line2.set_data(x[:i], k['g_sum'][:i][::-1])\n",
        "    line3.set_data(x[:i], k['diff_sum'][:i][::-1])\n",
        "    line4.set_data(x[:i], pre_list[:i][::-1])\n",
        "\n",
        "    return line, line2, line3, line4,\n",
        "# call the animator.  blit=True means only re-draw the parts that have changed.\n",
        "anim = animation.FuncAnimation(fig, animate, init_func=init,\n",
        "                               frames=662, interval=20, blit=True)\n",
        "\n",
        "\n",
        "anim.save('basic_animation.mp4', fps=50, extra_args=['-vcodec', 'libx264'])\n",
        "# writergif = animation.PillowWriter(fps=50)\n",
        "# anim.save(\"kkc.gif\", writer=writergif)\n",
        "# anim.save('exAnimation.gif', writer='writergif', fps=50, dpi=100)\n",
        "plt.show()"
      ],
      "execution_count": null,
      "outputs": [
        {
          "output_type": "display_data",
          "data": {
            "image/png": "[encoded data removed]",
            "text/plain": [
              "<Figure size 600x400 with 1 Axes>"
            ]
          },
          "metadata": {
            "needs_background": "light"
          }
        }
      ]
    },
    {
      "cell_type": "code",
      "metadata": {
        "id": "naCJ3NAU6XKR"
      },
      "source": [
        "x = []\n",
        "y = []\n",
        "for df in df_list:\n",
        "    for i in range(len(df) - 15):\n",
        "        df_x = df.drop('label',axis=1).iloc[i : i+ 15]\n",
        "        df_y = df['label'].iloc[i+15]\n",
        "        x.append(df_x)\n",
        "        y.append(df_y)\n",
        "x = np.array(x)\n",
        "y = np.array(y)\n",
        "model.evaluate(x,y)"
      ],
      "execution_count": null,
      "outputs": []
    },
    {
      "cell_type": "code",
      "metadata": {
        "id": "OKWUs2huOTU1"
      },
      "source": [
        ""
      ],
      "execution_count": null,
      "outputs": []
    }
  ]
}